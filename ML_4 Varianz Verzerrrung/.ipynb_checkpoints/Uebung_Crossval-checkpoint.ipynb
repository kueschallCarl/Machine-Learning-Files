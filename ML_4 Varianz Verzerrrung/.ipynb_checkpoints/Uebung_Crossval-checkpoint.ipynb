{
 "cells": [
  {
   "cell_type": "markdown",
   "metadata": {},
   "source": [
    "# Übung 6"
   ]
  },
  {
   "cell_type": "markdown",
   "metadata": {},
   "source": [
    "### Themen: Modellvalidierung und Hyperparameter-Optimierung\n"
   ]
  },
  {
   "cell_type": "code",
   "execution_count": 1,
   "metadata": {},
   "outputs": [],
   "source": [
    "import numpy as np\n",
    "import pandas as pd\n",
    "import matplotlib.pyplot as plt\n",
    "from sklearn.model_selection import train_test_split\n",
    "from sklearn import tree\n",
    "from sklearn.tree import DecisionTreeClassifier\n",
    "from sklearn.preprocessing import StandardScaler\n",
    "from sklearn.linear_model import LinearRegression\n",
    "import graphviz"
   ]
  },
  {
   "cell_type": "markdown",
   "metadata": {},
   "source": [
    "## Aufgabe 1"
   ]
  },
  {
   "cell_type": "markdown",
   "metadata": {},
   "source": [
    "In dieser Aufgaben werden Sie ein multivariates Lineares Regressionsmodell herleiten und dessen Güte mit dem Bestimmtheitsmaß bewerten. Dazu werde im weiteren Verlauf der folgende Datensatz betrachtet, der Angaben zu historischen Immobilienverkäufen enthält. Die Zielvariable ist die Spalte `Y house price of unit area`, die den (normierten) Hauspreis angibt."
   ]
  },
  {
   "cell_type": "markdown",
   "metadata": {},
   "source": [
    "#### Einlesen des Datensatzes"
   ]
  },
  {
   "cell_type": "code",
   "execution_count": 2,
   "metadata": {},
   "outputs": [],
   "source": [
    "df = pd.read_csv('realestate.csv')"
   ]
  },
  {
   "cell_type": "code",
   "execution_count": 3,
   "metadata": {},
   "outputs": [
    {
     "data": {
      "text/html": [
       "<div>\n",
       "<style scoped>\n",
       "    .dataframe tbody tr th:only-of-type {\n",
       "        vertical-align: middle;\n",
       "    }\n",
       "\n",
       "    .dataframe tbody tr th {\n",
       "        vertical-align: top;\n",
       "    }\n",
       "\n",
       "    .dataframe thead th {\n",
       "        text-align: right;\n",
       "    }\n",
       "</style>\n",
       "<table border=\"1\" class=\"dataframe\">\n",
       "  <thead>\n",
       "    <tr style=\"text-align: right;\">\n",
       "      <th></th>\n",
       "      <th>No</th>\n",
       "      <th>X1 transaction date</th>\n",
       "      <th>X2 house age</th>\n",
       "      <th>X3 distance to the nearest MRT station</th>\n",
       "      <th>X4 number of convenience stores</th>\n",
       "      <th>X5 latitude</th>\n",
       "      <th>X6 longitude</th>\n",
       "      <th>Y house price of unit area</th>\n",
       "    </tr>\n",
       "  </thead>\n",
       "  <tbody>\n",
       "    <tr>\n",
       "      <th>0</th>\n",
       "      <td>1</td>\n",
       "      <td>2012.917</td>\n",
       "      <td>32.0</td>\n",
       "      <td>84.87882</td>\n",
       "      <td>10</td>\n",
       "      <td>24.98298</td>\n",
       "      <td>121.54024</td>\n",
       "      <td>37.9</td>\n",
       "    </tr>\n",
       "    <tr>\n",
       "      <th>1</th>\n",
       "      <td>2</td>\n",
       "      <td>2012.917</td>\n",
       "      <td>19.5</td>\n",
       "      <td>306.59470</td>\n",
       "      <td>9</td>\n",
       "      <td>24.98034</td>\n",
       "      <td>121.53951</td>\n",
       "      <td>42.2</td>\n",
       "    </tr>\n",
       "    <tr>\n",
       "      <th>2</th>\n",
       "      <td>3</td>\n",
       "      <td>2013.583</td>\n",
       "      <td>13.3</td>\n",
       "      <td>561.98450</td>\n",
       "      <td>5</td>\n",
       "      <td>24.98746</td>\n",
       "      <td>121.54391</td>\n",
       "      <td>47.3</td>\n",
       "    </tr>\n",
       "    <tr>\n",
       "      <th>3</th>\n",
       "      <td>4</td>\n",
       "      <td>2013.500</td>\n",
       "      <td>13.3</td>\n",
       "      <td>561.98450</td>\n",
       "      <td>5</td>\n",
       "      <td>24.98746</td>\n",
       "      <td>121.54391</td>\n",
       "      <td>54.8</td>\n",
       "    </tr>\n",
       "    <tr>\n",
       "      <th>4</th>\n",
       "      <td>5</td>\n",
       "      <td>2012.833</td>\n",
       "      <td>5.0</td>\n",
       "      <td>390.56840</td>\n",
       "      <td>5</td>\n",
       "      <td>24.97937</td>\n",
       "      <td>121.54245</td>\n",
       "      <td>43.1</td>\n",
       "    </tr>\n",
       "  </tbody>\n",
       "</table>\n",
       "</div>"
      ],
      "text/plain": [
       "   No  X1 transaction date  X2 house age  \\\n",
       "0   1             2012.917          32.0   \n",
       "1   2             2012.917          19.5   \n",
       "2   3             2013.583          13.3   \n",
       "3   4             2013.500          13.3   \n",
       "4   5             2012.833           5.0   \n",
       "\n",
       "   X3 distance to the nearest MRT station  X4 number of convenience stores  \\\n",
       "0                                84.87882                               10   \n",
       "1                               306.59470                                9   \n",
       "2                               561.98450                                5   \n",
       "3                               561.98450                                5   \n",
       "4                               390.56840                                5   \n",
       "\n",
       "   X5 latitude  X6 longitude  Y house price of unit area  \n",
       "0     24.98298     121.54024                        37.9  \n",
       "1     24.98034     121.53951                        42.2  \n",
       "2     24.98746     121.54391                        47.3  \n",
       "3     24.98746     121.54391                        54.8  \n",
       "4     24.97937     121.54245                        43.1  "
      ]
     },
     "execution_count": 3,
     "metadata": {},
     "output_type": "execute_result"
    }
   ],
   "source": [
    "df.head()"
   ]
  },
  {
   "cell_type": "code",
   "execution_count": 4,
   "metadata": {},
   "outputs": [
    {
     "data": {
      "text/plain": [
       "0      2012.917\n",
       "1      2012.917\n",
       "2      2013.583\n",
       "3      2013.500\n",
       "4      2012.833\n",
       "         ...   \n",
       "409    2013.000\n",
       "410    2012.667\n",
       "411    2013.250\n",
       "412    2013.000\n",
       "413    2013.500\n",
       "Name: X1 transaction date, Length: 414, dtype: float64"
      ]
     },
     "execution_count": 4,
     "metadata": {},
     "output_type": "execute_result"
    }
   ],
   "source": [
    "df['X1 transaction date']"
   ]
  },
  {
   "cell_type": "markdown",
   "metadata": {},
   "source": [
    "#### a) Lineare Regression"
   ]
  },
  {
   "cell_type": "markdown",
   "metadata": {},
   "source": [
    "Führen Sie einen Train-Test-Split durch mit `test_size=0.2` durch und erstellen Sie ein Lineares Regressionsmodell in Scikit-learn zur Vorhersage der Zielvariablen `Y house price of unit area`. Werten Sie das Bestimmtheitsmaß $R^2$ auf dem Trainings- und auf dem Testdatensatz aus und beurteilen Sie die Güte des Modells. Wiederholen Sie die Teilaufgabe mehrfach und vergleichen Sie die Ergebnisse. <br><br>\n",
    "Hinweis: das Bestimmtheitsmaß kann man durch den Aufruf der Methode `score` der Klasse `sklearn.linear_model.LinearRegression` erhalten."
   ]
  },
  {
   "cell_type": "code",
   "execution_count": 5,
   "metadata": {},
   "outputs": [],
   "source": [
    "X = df[['X2 house age', 'X3 distance to the nearest MRT station', 'X4 number of convenience stores']]\n",
    "y = df['Y house price of unit area']\n",
    "\n",
    "# Split the data into training and testing sets\n",
    "X_train, X_test, y_train, y_test = train_test_split(X, y, test_size=0.2, random_state=55)"
   ]
  },
  {
   "cell_type": "code",
   "execution_count": 6,
   "metadata": {},
   "outputs": [
    {
     "data": {
      "text/html": [
       "<div>\n",
       "<style scoped>\n",
       "    .dataframe tbody tr th:only-of-type {\n",
       "        vertical-align: middle;\n",
       "    }\n",
       "\n",
       "    .dataframe tbody tr th {\n",
       "        vertical-align: top;\n",
       "    }\n",
       "\n",
       "    .dataframe thead th {\n",
       "        text-align: right;\n",
       "    }\n",
       "</style>\n",
       "<table border=\"1\" class=\"dataframe\">\n",
       "  <thead>\n",
       "    <tr style=\"text-align: right;\">\n",
       "      <th></th>\n",
       "      <th>X2 house age</th>\n",
       "      <th>X3 distance to the nearest MRT station</th>\n",
       "      <th>X4 number of convenience stores</th>\n",
       "    </tr>\n",
       "  </thead>\n",
       "  <tbody>\n",
       "    <tr>\n",
       "      <th>380</th>\n",
       "      <td>14.1</td>\n",
       "      <td>289.32480</td>\n",
       "      <td>5</td>\n",
       "    </tr>\n",
       "    <tr>\n",
       "      <th>41</th>\n",
       "      <td>16.8</td>\n",
       "      <td>4066.58700</td>\n",
       "      <td>0</td>\n",
       "    </tr>\n",
       "    <tr>\n",
       "      <th>217</th>\n",
       "      <td>28.0</td>\n",
       "      <td>372.62420</td>\n",
       "      <td>6</td>\n",
       "    </tr>\n",
       "    <tr>\n",
       "      <th>70</th>\n",
       "      <td>6.6</td>\n",
       "      <td>90.45606</td>\n",
       "      <td>9</td>\n",
       "    </tr>\n",
       "    <tr>\n",
       "      <th>87</th>\n",
       "      <td>16.9</td>\n",
       "      <td>4066.58700</td>\n",
       "      <td>0</td>\n",
       "    </tr>\n",
       "    <tr>\n",
       "      <th>...</th>\n",
       "      <td>...</td>\n",
       "      <td>...</td>\n",
       "      <td>...</td>\n",
       "    </tr>\n",
       "    <tr>\n",
       "      <th>311</th>\n",
       "      <td>21.3</td>\n",
       "      <td>537.79710</td>\n",
       "      <td>4</td>\n",
       "    </tr>\n",
       "    <tr>\n",
       "      <th>29</th>\n",
       "      <td>7.1</td>\n",
       "      <td>451.24380</td>\n",
       "      <td>5</td>\n",
       "    </tr>\n",
       "    <tr>\n",
       "      <th>381</th>\n",
       "      <td>8.0</td>\n",
       "      <td>132.54690</td>\n",
       "      <td>9</td>\n",
       "    </tr>\n",
       "    <tr>\n",
       "      <th>295</th>\n",
       "      <td>18.2</td>\n",
       "      <td>2179.59000</td>\n",
       "      <td>3</td>\n",
       "    </tr>\n",
       "    <tr>\n",
       "      <th>154</th>\n",
       "      <td>16.9</td>\n",
       "      <td>4066.58700</td>\n",
       "      <td>0</td>\n",
       "    </tr>\n",
       "  </tbody>\n",
       "</table>\n",
       "<p>331 rows × 3 columns</p>\n",
       "</div>"
      ],
      "text/plain": [
       "     X2 house age  X3 distance to the nearest MRT station  \\\n",
       "380          14.1                               289.32480   \n",
       "41           16.8                              4066.58700   \n",
       "217          28.0                               372.62420   \n",
       "70            6.6                                90.45606   \n",
       "87           16.9                              4066.58700   \n",
       "..            ...                                     ...   \n",
       "311          21.3                               537.79710   \n",
       "29            7.1                               451.24380   \n",
       "381           8.0                               132.54690   \n",
       "295          18.2                              2179.59000   \n",
       "154          16.9                              4066.58700   \n",
       "\n",
       "     X4 number of convenience stores  \n",
       "380                                5  \n",
       "41                                 0  \n",
       "217                                6  \n",
       "70                                 9  \n",
       "87                                 0  \n",
       "..                               ...  \n",
       "311                                4  \n",
       "29                                 5  \n",
       "381                                9  \n",
       "295                                3  \n",
       "154                                0  \n",
       "\n",
       "[331 rows x 3 columns]"
      ]
     },
     "execution_count": 6,
     "metadata": {},
     "output_type": "execute_result"
    }
   ],
   "source": [
    "X_train"
   ]
  },
  {
   "cell_type": "code",
   "execution_count": 7,
   "metadata": {},
   "outputs": [
    {
     "name": "stdout",
     "output_type": "stream",
     "text": [
      "Mean squared error: 69.20436676263425\n",
      "score train: 0.5334246433423124\n",
      "score test: 0.551511819685309\n"
     ]
    }
   ],
   "source": [
    "from sklearn.linear_model import LinearRegression\n",
    "from sklearn.metrics import mean_squared_error\n",
    "from sklearn.preprocessing import StandardScaler\n",
    "\n",
    "\n",
    "# Fit a linear regression model on the training data\n",
    "reg = LinearRegression().fit(X_train, y_train)\n",
    "scaler = StandardScaler()\n",
    "X_train_scaled = scaler.fit_transform(X_train)\n",
    "X_test_scaled = scaler.transform(X_test)\n",
    "\n",
    "\n",
    "\n",
    "# Make predictions on the test data\n",
    "y_pred = reg.predict(X_test)\n",
    "\n",
    "# Print the mean squared error and R-squared score of the model\n",
    "print('Mean squared error:', mean_squared_error(y_test, y_pred))\n",
    "print('score train:', reg.score(X_train, y_train))\n",
    "print('score test:', reg.score(X_test, y_test))"
   ]
  },
  {
   "cell_type": "markdown",
   "metadata": {},
   "source": [
    "#### b) Residual-Plot"
   ]
  },
  {
   "cell_type": "markdown",
   "metadata": {},
   "source": [
    "Zeichnen Sie einen Residual-Plot für das oben entwickelte Regressionsmodell. Verwenden Sie dazu die Funktion `matplotlib.pyplot.scatter`."
   ]
  },
  {
   "cell_type": "code",
   "execution_count": 8,
   "metadata": {},
   "outputs": [
    {
     "data": {
      "image/png": "[encoded data removed]",
      "text/plain": [
       "<Figure size 640x480 with 1 Axes>"
      ]
     },
     "metadata": {},
     "output_type": "display_data"
    }
   ],
   "source": [
    "# Calculate the residuals\n",
    "residuals = y_test - y_pred\n",
    "\n",
    "# Plot the residuals against the predicted values\n",
    "plt.scatter(y_pred, residuals)\n",
    "plt.axhline(y=0, color='r', linestyle='-')\n",
    "plt.xlabel('Predicted values')\n",
    "plt.ylabel('Residuals')\n",
    "plt.title('Residual plot')\n",
    "plt.show()"
   ]
  },
  {
   "cell_type": "code",
   "execution_count": 9,
   "metadata": {},
   "outputs": [
    {
     "data": {
      "image/png": "[encoded data removed]",
      "text/plain": [
       "<Figure size 640x480 with 1 Axes>"
      ]
     },
     "metadata": {},
     "output_type": "display_data"
    }
   ],
   "source": [
    "# Scatter plot of predicted vs. actual values\n",
    "plt.scatter(y_test, y_pred)\n",
    "plt.xlabel('Actual Values')\n",
    "plt.ylabel('Predicted Values')\n",
    "plt.title('Actual vs. Predicted Values')\n",
    "plt.show()"
   ]
  },
  {
   "cell_type": "code",
   "execution_count": 10,
   "metadata": {},
   "outputs": [
    {
     "data": {
      "image/png": "[encoded data removed]",
      "text/plain": [
       "<Figure size 640x480 with 1 Axes>"
      ]
     },
     "metadata": {},
     "output_type": "display_data"
    }
   ],
   "source": [
    "# Coefficient plot\n",
    "coef = pd.Series(reg.coef_, index=X.columns)\n",
    "coef.plot(kind='barh')\n",
    "plt.title('Coefficients in the Linear Regression Model')\n",
    "plt.show()"
   ]
  },
  {
   "cell_type": "markdown",
   "metadata": {},
   "source": [
    "## Aufgabe 2:  k-fache Cross Validation"
   ]
  },
  {
   "cell_type": "markdown",
   "metadata": {},
   "source": [
    "Anstatt wie in Aufgabe 1 einen einzigen (fixen) Train-Test-Split auszuführen und darauf das Modell zu trainieren und zu bewerten, soll nun k-fache Kreuzvalidierung (vgl. Vorlesung) durchgeführt werden, um eine zuverlässigere Einschätzung der Modellgüte zu erhalten. Führen Sie unter Verwendung von `sklearn.model_selection.KFold` (vgl. <a href=\"https://scikit-learn.org/stable/modules/generated/sklearn.model_selection.KFold.html\">Dokumentation</a>) eine fünffache Kreuzvalidierung des Linearen Regressionsmodells aus Aufgabe 1 durch. Bestimmen Sie für jeden Fold das Bestimmtheitsmaß jeweils auf dem Trainings- und auf dem Testdatensatz und berechnen Sie anschließend deren Mittelwerte. Vergleichen Sie diese mit denen entsprechenden Werten aus Aufgabe 1."
   ]
  },
  {
   "cell_type": "code",
   "execution_count": 11,
   "metadata": {},
   "outputs": [],
   "source": [
    "from sklearn.model_selection import KFold"
   ]
  },
  {
   "cell_type": "code",
   "execution_count": 12,
   "metadata": {},
   "outputs": [
    {
     "name": "stdout",
     "output_type": "stream",
     "text": [
      "Fold 1\n",
      "Fold 2\n",
      "Fold 3\n",
      "Fold 4\n",
      "Fold 5\n",
      "[0.6489726933106557, 0.42441859849679486, 0.5897524283809032, 0.5582600991539899, 0.4394475344467905]\n",
      "[0.5146436173066766, 0.5593123783117578, 0.527636215929614, 0.5351964404536014, 0.5741783650968845]\n"
     ]
    }
   ],
   "source": [
    "# Define the number of folds for K-fold cross-validation\n",
    "num_folds = 5\n",
    "\n",
    "# Create the K-fold object\n",
    "kf = KFold(n_splits=num_folds, shuffle=True, random_state=42)\n",
    "\n",
    "# Initialize an empty list to store the test set predictions for each fold\n",
    "test_preds = []\n",
    "test_scores = []\n",
    "train_scores = []\n",
    "\n",
    "# Loop over the folds\n",
    "for fold, (train_index, test_index) in enumerate(kf.split(X)):\n",
    "    print(f\"Fold {fold+1}\")\n",
    "    X_train, X_test = X.iloc[train_index], X.iloc[test_index]\n",
    "    y_train, y_test = y.iloc[train_index], y.iloc[test_index]\n",
    "    \n",
    "    # Scale the data\n",
    "    scaler = StandardScaler()\n",
    "    X_train_scaled = scaler.fit_transform(X_train)\n",
    "    X_test_scaled = scaler.transform(X_test)\n",
    "\n",
    "    # Fit the linear regression model on the training data\n",
    "    reg = LinearRegression().fit(X_train_scaled, y_train)\n",
    "    \n",
    "    # Make predictions on the test data\n",
    "    y_pred = reg.predict(X_test_scaled)\n",
    "    \n",
    "    # Store the test set predictions for this fold\n",
    "    # Store the scores for train and test data\n",
    "    test_preds.append(y_pred)\n",
    "    test_scores.append(reg.score(X_test_scaled, y_test))\n",
    "    train_scores.append(reg.score(X_train_scaled, y_train))\n",
    "    \n",
    "\n",
    "# Compute the overall test set predictions by averaging the predictions across all folds\n",
    "print(test_scores)\n",
    "print(train_scores)\n",
    "\n"
   ]
  },
  {
   "cell_type": "code",
   "execution_count": 13,
   "metadata": {
    "scrolled": true
   },
   "outputs": [
    {
     "name": "stdout",
     "output_type": "stream",
     "text": [
      "Train Scores Mean:  0.5421934034197069\n",
      "Test Scores Mean:  0.5321702707578269\n"
     ]
    }
   ],
   "source": [
    "test_scores_mean = np.mean(test_scores, axis=0)\n",
    "train_scores_mean = np.mean(train_scores, axis=0)\n",
    "print(\"Train Scores Mean: \",train_scores_mean)\n",
    "print(\"Test Scores Mean: \",test_scores_mean)"
   ]
  },
  {
   "cell_type": "markdown",
   "metadata": {},
   "source": [
    "## Aufgabe 3: Hyperparameteroptimierung durch Rastersuche mit k-facher Kreuzvalidierung"
   ]
  },
  {
   "cell_type": "markdown",
   "metadata": {},
   "source": [
    "#### a) Funktionsweise von Entscheidungsbaum-Regression"
   ]
  },
  {
   "cell_type": "markdown",
   "metadata": {},
   "source": [
    "Lesen Sie die Seiten 346-347 (Kapitel 10.8.1) im Buch von Raschka zum Thema Entscheidungsbaum-Regression. Beantworten Sie die folgenden Fragen:\n",
    "* Welchen Unterschied gibt es zur Entscheidungsbaum-Klassifikation hinsichtlich des Maßes für die Unreinheit?\n",
    "* Wie wird nach Aufbau des Baums für ein neues Sample ein Prognosewert bestimmt?\n",
    "* Nennen und erläutern Sie zwei wesentliche Unterschiede eines DecisionTreeRegressors zu einem Linearen Regressionsmodell der Form $y=\\theta_0+\\theta_1x_1+\\ldots+\\theta_px_p$."
   ]
  },
  {
   "cell_type": "markdown",
   "metadata": {},
   "source": [
    "Modellform:\n",
    "Ein DecisionTreeRegressor-Modell erstellt Entscheidungsbäume, um die Vorhersage zu treffen, während ein Lineares Regressionsmodell eine lineare Funktion verwendet, um die Beziehung zwischen den Features und dem Zielwert zu modellieren.\n",
    "\n",
    "Modellkomplexität:\n",
    "Ein DecisionTreeRegressor kann im Allgemeinen komplexere Zusammenhänge zwischen den Features und dem Zielwert modellieren als ein Lineares Regressionsmodell. Dies liegt daran, dass Decision Trees ein höheres Maß an Flexibilität haben und die Daten auf eine nicht-lineare Weise partitionieren können. Dies kann jedoch auch dazu führen, dass Entscheidungsbäume zu Overfitting neigen, insbesondere wenn sie tief sind und eine große Anzahl von Splits enthalten. Im Gegensatz dazu ist ein Lineares Regressionsmodell in der Regel einfacher und weniger anfällig für Overfitting, insbesondere wenn die Anzahl der Features im Vergleich zur Anzahl der Trainingsdaten groß ist."
   ]
  },
  {
   "cell_type": "markdown",
   "metadata": {},
   "source": [
    "Der wesentliche Unterschied zwischen der Entscheidungsbaum-Klassifikation und der Entscheidungsbaum-Regression besteht in der Wahl des Maßes für die Unreinheit.\n",
    "\n",
    "Für die Entscheidungsbaum-Klassifikation wird in der Regel das Maß für die Unreinheit der Gini-Index oder die Entropie verwendet, um die Qualität der Aufteilung der Daten in den Knoten des Baums zu bewerten. Der Gini-Index misst, wie oft ein zufällig ausgewähltes Element falsch klassifiziert würde, wenn es zufällig in den Subgruppen platziert würde, während die Entropie die Unordnung der Daten in einem Knoten misst.\n",
    "\n",
    "Für die Entscheidungsbaum-Regression wird stattdessen der mittlere absolute Fehler (MAE) oder die mittlere quadratische Abweichung (MSE) verwendet, um die Qualität der Aufteilung der Daten in den Knoten des Baums zu bewerten. Der MAE misst den durchschnittlichen Betrag der Abweichung zwischen den Vorhersagen und den tatsächlichen Werten, während der MSE den durchschnittlichen quadratischen Abstand zwischen den Vorhersagen und den tatsächlichen Werten misst.\n",
    "\n",
    "Der Grund für diese Unterschiede liegt in den unterschiedlichen Zielen der Klassifikation und Regression. Während die Klassifikation das Ziel hat, die Daten in diskrete Klassen zu unterteilen, hat die Regression das Ziel, die kontinuierlichen Werte der Zielvariable zu schätzen. Daher sind unterschiedliche Maße für die Unreinheit erforderlich, um die Qualität der Aufteilung der Daten in den Knoten des Entscheidungsbaums zu bewerten."
   ]
  },
  {
   "cell_type": "markdown",
   "metadata": {},
   "source": [
    "#### b) DecisionTreeRegressor in Scikit-learn"
   ]
  },
  {
   "cell_type": "markdown",
   "metadata": {},
   "source": [
    "Erstellen Sie auf dem Trainingsdatensatz aus Aufgabe 1 ein baumbasiertes Regressionsmodell unter Verwendung der Klasse `sklearn.tree.DecisionTreeRegressor`. Werten Sie anschließend das Bestimmtheitsmaß auf dem Trainings- und auf dem Testdatensatz aus. Erklären Sie Ihre Beobachtung."
   ]
  },
  {
   "cell_type": "code",
   "execution_count": 14,
   "metadata": {},
   "outputs": [],
   "source": [
    "from sklearn.tree import DecisionTreeRegressor\n",
    "from sklearn.metrics import mean_squared_error, r2_score"
   ]
  },
  {
   "cell_type": "code",
   "execution_count": 15,
   "metadata": {},
   "outputs": [
    {
     "name": "stdout",
     "output_type": "stream",
     "text": [
      "R2 Score: 0.7262696909191924\n",
      "0.7262696909191924\n"
     ]
    }
   ],
   "source": [
    "X = df[['X2 house age', 'X3 distance to the nearest MRT station', 'X4 number of convenience stores']]\n",
    "y = df['Y house price of unit area']\n",
    "\n",
    "X_train, X_test, y_train, y_test = train_test_split(X, y, test_size=0.2, random_state=42)\n",
    "\n",
    "# initialize the DecisionTreeRegressor model with some hyperparameters\n",
    "tree_reg = DecisionTreeRegressor(max_depth=5, min_samples_leaf=20, random_state=50)\n",
    "\n",
    "# fit the model to the training data\n",
    "tree_reg.fit(X_train, y_train)\n",
    "\n",
    "# make predictions on the testing data\n",
    "y_pred = tree_reg.predict(X_test)\n",
    "\n",
    "# evaluate the model performance\n",
    "r2 = r2_score(y_test, y_pred)\n",
    "\n",
    "print(f\"R2 Score: {r2}\")\n",
    "print(tree_reg.score(X_test, y_test))"
   ]
  },
  {
   "cell_type": "code",
   "execution_count": 16,
   "metadata": {
    "scrolled": true
   },
   "outputs": [
    {
     "data": {
      "image/svg+xml": [
       "<?xml version=\"1.0\" encoding=\"UTF-8\" standalone=\"no\"?>\n",
       "<!DOCTYPE svg PUBLIC \"-//W3C//DTD SVG 1.1//EN\"\n",
       " \"http://www.w3.org/Graphics/SVG/1.1/DTD/svg11.dtd\">\n",
       "<!-- Generated by graphviz version 8.0.1 (20230327.1645)\n",
       " -->\n",
       "<!-- Title: Tree Pages: 1 -->\n",
       "<svg width=\"1878pt\" height=\"581pt\"\n",
       " viewBox=\"0.00 0.00 1878.00 581.00\" xmlns=\"http://www.w3.org/2000/svg\" xmlns:xlink=\"http://www.w3.org/1999/xlink\">\n",
       "<g id=\"graph0\" class=\"graph\" transform=\"scale(1 1) rotate(0) translate(4 577)\">\n",
       "<title>Tree</title>\n",
       "<polygon fill=\"white\" stroke=\"none\" points=\"-4,4 -4,-577 1874,-577 1874,4 -4,4\"/>\n",
       "<!-- 0 -->\n",
       "<g id=\"node1\" class=\"node\">\n",
       "<title>0</title>\n",
       "<path fill=\"#f1bd98\" stroke=\"black\" d=\"M1377,-573C1377,-573 1072,-573 1072,-573 1066,-573 1060,-567 1060,-561 1060,-561 1060,-517 1060,-517 1060,-511 1066,-505 1072,-505 1072,-505 1377,-505 1377,-505 1383,-505 1389,-511 1389,-517 1389,-517 1389,-561 1389,-561 1389,-567 1383,-573 1377,-573\"/>\n",
       "<text text-anchor=\"start\" x=\"1068\" y=\"-557.8\" font-family=\"Helvetica,sans-Serif\" font-size=\"14.00\">X3 distance to the nearest MRT station ≤ 826.827</text>\n",
       "<text text-anchor=\"start\" x=\"1144.5\" y=\"-542.8\" font-family=\"Helvetica,sans-Serif\" font-size=\"14.00\">squared_error = 188.091</text>\n",
       "<text text-anchor=\"start\" x=\"1177\" y=\"-527.8\" font-family=\"Helvetica,sans-Serif\" font-size=\"14.00\">samples = 331</text>\n",
       "<text text-anchor=\"start\" x=\"1177.5\" y=\"-512.8\" font-family=\"Helvetica,sans-Serif\" font-size=\"14.00\">value = 38.392</text>\n",
       "</g>\n",
       "<!-- 1 -->\n",
       "<g id=\"node2\" class=\"node\">\n",
       "<title>1</title>\n",
       "<path fill=\"#eda775\" stroke=\"black\" d=\"M1001.5,-469C1001.5,-469 849.5,-469 849.5,-469 843.5,-469 837.5,-463 837.5,-457 837.5,-457 837.5,-413 837.5,-413 837.5,-407 843.5,-401 849.5,-401 849.5,-401 1001.5,-401 1001.5,-401 1007.5,-401 1013.5,-407 1013.5,-413 1013.5,-413 1013.5,-457 1013.5,-457 1013.5,-463 1007.5,-469 1001.5,-469\"/>\n",
       "<text text-anchor=\"start\" x=\"859\" y=\"-453.8\" font-family=\"Helvetica,sans-Serif\" font-size=\"14.00\">X2 house age ≤ 11.7</text>\n",
       "<text text-anchor=\"start\" x=\"845.5\" y=\"-438.8\" font-family=\"Helvetica,sans-Serif\" font-size=\"14.00\">squared_error = 121.461</text>\n",
       "<text text-anchor=\"start\" x=\"878\" y=\"-423.8\" font-family=\"Helvetica,sans-Serif\" font-size=\"14.00\">samples = 212</text>\n",
       "<text text-anchor=\"start\" x=\"878.5\" y=\"-408.8\" font-family=\"Helvetica,sans-Serif\" font-size=\"14.00\">value = 45.455</text>\n",
       "</g>\n",
       "<!-- 0&#45;&gt;1 -->\n",
       "<g id=\"edge1\" class=\"edge\">\n",
       "<title>0&#45;&gt;1</title>\n",
       "<path fill=\"none\" stroke=\"black\" d=\"M1126.6,-504.6C1093.57,-493.33 1056.71,-480.76 1023.66,-469.48\"/>\n",
       "<polygon fill=\"black\" stroke=\"black\" points=\"1025.12,-465.95 1014.53,-466.03 1022.86,-472.57 1025.12,-465.95\"/>\n",
       "<text text-anchor=\"middle\" x=\"1024.55\" y=\"-484.77\" font-family=\"Helvetica,sans-Serif\" font-size=\"14.00\">True</text>\n",
       "</g>\n",
       "<!-- 16 -->\n",
       "<g id=\"node17\" class=\"node\">\n",
       "<title>16</title>\n",
       "<path fill=\"#fae5d6\" stroke=\"black\" d=\"M1580.5,-469C1580.5,-469 1266.5,-469 1266.5,-469 1260.5,-469 1254.5,-463 1254.5,-457 1254.5,-457 1254.5,-413 1254.5,-413 1254.5,-407 1260.5,-401 1266.5,-401 1266.5,-401 1580.5,-401 1580.5,-401 1586.5,-401 1592.5,-407 1592.5,-413 1592.5,-413 1592.5,-457 1592.5,-457 1592.5,-463 1586.5,-469 1580.5,-469\"/>\n",
       "<text text-anchor=\"start\" x=\"1262.5\" y=\"-453.8\" font-family=\"Helvetica,sans-Serif\" font-size=\"14.00\">X3 distance to the nearest MRT station ≤ 4007.266</text>\n",
       "<text text-anchor=\"start\" x=\"1348\" y=\"-438.8\" font-family=\"Helvetica,sans-Serif\" font-size=\"14.00\">squared_error = 59.546</text>\n",
       "<text text-anchor=\"start\" x=\"1376\" y=\"-423.8\" font-family=\"Helvetica,sans-Serif\" font-size=\"14.00\">samples = 119</text>\n",
       "<text text-anchor=\"start\" x=\"1376.5\" y=\"-408.8\" font-family=\"Helvetica,sans-Serif\" font-size=\"14.00\">value = 25.808</text>\n",
       "</g>\n",
       "<!-- 0&#45;&gt;16 -->\n",
       "<g id=\"edge16\" class=\"edge\">\n",
       "<title>0&#45;&gt;16</title>\n",
       "<path fill=\"none\" stroke=\"black\" d=\"M1289.66,-504.6C1308.47,-494.96 1329.15,-484.36 1348.51,-474.44\"/>\n",
       "<polygon fill=\"black\" stroke=\"black\" points=\"1349.89,-477.15 1357.19,-469.47 1346.7,-470.92 1349.89,-477.15\"/>\n",
       "<text text-anchor=\"middle\" x=\"1350.53\" y=\"-489.57\" font-family=\"Helvetica,sans-Serif\" font-size=\"14.00\">False</text>\n",
       "</g>\n",
       "<!-- 2 -->\n",
       "<g id=\"node3\" class=\"node\">\n",
       "<title>2</title>\n",
       "<path fill=\"#e99254\" stroke=\"black\" d=\"M631,-365C631,-365 326,-365 326,-365 320,-365 314,-359 314,-353 314,-353 314,-309 314,-309 314,-303 320,-297 326,-297 326,-297 631,-297 631,-297 637,-297 643,-303 643,-309 643,-309 643,-353 643,-353 643,-359 637,-365 631,-365\"/>\n",
       "<text text-anchor=\"start\" x=\"322\" y=\"-349.8\" font-family=\"Helvetica,sans-Serif\" font-size=\"14.00\">X3 distance to the nearest MRT station ≤ 321.436</text>\n",
       "<text text-anchor=\"start\" x=\"398.5\" y=\"-334.8\" font-family=\"Helvetica,sans-Serif\" font-size=\"14.00\">squared_error = 125.515</text>\n",
       "<text text-anchor=\"start\" x=\"435\" y=\"-319.8\" font-family=\"Helvetica,sans-Serif\" font-size=\"14.00\">samples = 77</text>\n",
       "<text text-anchor=\"start\" x=\"431.5\" y=\"-304.8\" font-family=\"Helvetica,sans-Serif\" font-size=\"14.00\">value = 52.186</text>\n",
       "</g>\n",
       "<!-- 1&#45;&gt;2 -->\n",
       "<g id=\"edge2\" class=\"edge\">\n",
       "<title>1&#45;&gt;2</title>\n",
       "<path fill=\"none\" stroke=\"black\" d=\"M837.19,-413.85C779.71,-400.73 703.13,-383.26 635.49,-367.82\"/>\n",
       "<polygon fill=\"black\" stroke=\"black\" points=\"636.67,-364.27 626.14,-365.46 635.11,-371.1 636.67,-364.27\"/>\n",
       "</g>\n",
       "<!-- 7 -->\n",
       "<g id=\"node8\" class=\"node\">\n",
       "<title>7</title>\n",
       "<path fill=\"#efb388\" stroke=\"black\" d=\"M1078,-365C1078,-365 773,-365 773,-365 767,-365 761,-359 761,-353 761,-353 761,-309 761,-309 761,-303 767,-297 773,-297 773,-297 1078,-297 1078,-297 1084,-297 1090,-303 1090,-309 1090,-309 1090,-353 1090,-353 1090,-359 1084,-365 1078,-365\"/>\n",
       "<text text-anchor=\"start\" x=\"769\" y=\"-349.8\" font-family=\"Helvetica,sans-Serif\" font-size=\"14.00\">X3 distance to the nearest MRT station ≤ 331.727</text>\n",
       "<text text-anchor=\"start\" x=\"850\" y=\"-334.8\" font-family=\"Helvetica,sans-Serif\" font-size=\"14.00\">squared_error = 78.574</text>\n",
       "<text text-anchor=\"start\" x=\"878\" y=\"-319.8\" font-family=\"Helvetica,sans-Serif\" font-size=\"14.00\">samples = 135</text>\n",
       "<text text-anchor=\"start\" x=\"878.5\" y=\"-304.8\" font-family=\"Helvetica,sans-Serif\" font-size=\"14.00\">value = 41.616</text>\n",
       "</g>\n",
       "<!-- 1&#45;&gt;7 -->\n",
       "<g id=\"edge7\" class=\"edge\">\n",
       "<title>1&#45;&gt;7</title>\n",
       "<path fill=\"none\" stroke=\"black\" d=\"M925.5,-400.6C925.5,-392.85 925.5,-384.49 925.5,-376.35\"/>\n",
       "<polygon fill=\"black\" stroke=\"black\" points=\"929,-376.47 925.5,-366.47 922,-376.47 929,-376.47\"/>\n",
       "</g>\n",
       "<!-- 3 -->\n",
       "<g id=\"node4\" class=\"node\">\n",
       "<title>3</title>\n",
       "<path fill=\"#e78b49\" stroke=\"black\" d=\"M369,-261C369,-261 64,-261 64,-261 58,-261 52,-255 52,-249 52,-249 52,-205 52,-205 52,-199 58,-193 64,-193 64,-193 369,-193 369,-193 375,-193 381,-199 381,-205 381,-205 381,-249 381,-249 381,-255 375,-261 369,-261\"/>\n",
       "<text text-anchor=\"start\" x=\"60\" y=\"-245.8\" font-family=\"Helvetica,sans-Serif\" font-size=\"14.00\">X3 distance to the nearest MRT station ≤ 189.507</text>\n",
       "<text text-anchor=\"start\" x=\"136.5\" y=\"-230.8\" font-family=\"Helvetica,sans-Serif\" font-size=\"14.00\">squared_error = 162.671</text>\n",
       "<text text-anchor=\"start\" x=\"173\" y=\"-215.8\" font-family=\"Helvetica,sans-Serif\" font-size=\"14.00\">samples = 48</text>\n",
       "<text text-anchor=\"start\" x=\"169.5\" y=\"-200.8\" font-family=\"Helvetica,sans-Serif\" font-size=\"14.00\">value = 54.498</text>\n",
       "</g>\n",
       "<!-- 2&#45;&gt;3 -->\n",
       "<g id=\"edge3\" class=\"edge\">\n",
       "<title>2&#45;&gt;3</title>\n",
       "<path fill=\"none\" stroke=\"black\" d=\"M392.71,-296.6C367.04,-286.61 338.73,-275.58 312.44,-265.35\"/>\n",
       "<polygon fill=\"black\" stroke=\"black\" points=\"314.07,-261.84 303.48,-261.47 311.53,-268.36 314.07,-261.84\"/>\n",
       "</g>\n",
       "<!-- 6 -->\n",
       "<g id=\"node7\" class=\"node\">\n",
       "<title>6</title>\n",
       "<path fill=\"#eb9e67\" stroke=\"black\" d=\"M546,-253.5C546,-253.5 411,-253.5 411,-253.5 405,-253.5 399,-247.5 399,-241.5 399,-241.5 399,-212.5 399,-212.5 399,-206.5 405,-200.5 411,-200.5 411,-200.5 546,-200.5 546,-200.5 552,-200.5 558,-206.5 558,-212.5 558,-212.5 558,-241.5 558,-241.5 558,-247.5 552,-253.5 546,-253.5\"/>\n",
       "<text text-anchor=\"start\" x=\"407\" y=\"-238.3\" font-family=\"Helvetica,sans-Serif\" font-size=\"14.00\">squared_error = 40.52</text>\n",
       "<text text-anchor=\"start\" x=\"435\" y=\"-223.3\" font-family=\"Helvetica,sans-Serif\" font-size=\"14.00\">samples = 29</text>\n",
       "<text text-anchor=\"start\" x=\"431.5\" y=\"-208.3\" font-family=\"Helvetica,sans-Serif\" font-size=\"14.00\">value = 48.359</text>\n",
       "</g>\n",
       "<!-- 2&#45;&gt;6 -->\n",
       "<g id=\"edge6\" class=\"edge\">\n",
       "<title>2&#45;&gt;6</title>\n",
       "<path fill=\"none\" stroke=\"black\" d=\"M478.5,-296.6C478.5,-286.36 478.5,-275.04 478.5,-264.6\"/>\n",
       "<polygon fill=\"black\" stroke=\"black\" points=\"482,-264.71 478.5,-254.71 475,-264.71 482,-264.71\"/>\n",
       "</g>\n",
       "<!-- 4 -->\n",
       "<g id=\"node5\" class=\"node\">\n",
       "<title>4</title>\n",
       "<path fill=\"#e99254\" stroke=\"black\" d=\"M155,-149.5C155,-149.5 12,-149.5 12,-149.5 6,-149.5 0,-143.5 0,-137.5 0,-137.5 0,-108.5 0,-108.5 0,-102.5 6,-96.5 12,-96.5 12,-96.5 155,-96.5 155,-96.5 161,-96.5 167,-102.5 167,-108.5 167,-108.5 167,-137.5 167,-137.5 167,-143.5 161,-149.5 155,-149.5\"/>\n",
       "<text text-anchor=\"start\" x=\"8\" y=\"-134.3\" font-family=\"Helvetica,sans-Serif\" font-size=\"14.00\">squared_error = 52.909</text>\n",
       "<text text-anchor=\"start\" x=\"40\" y=\"-119.3\" font-family=\"Helvetica,sans-Serif\" font-size=\"14.00\">samples = 28</text>\n",
       "<text text-anchor=\"start\" x=\"36.5\" y=\"-104.3\" font-family=\"Helvetica,sans-Serif\" font-size=\"14.00\">value = 52.175</text>\n",
       "</g>\n",
       "<!-- 3&#45;&gt;4 -->\n",
       "<g id=\"edge4\" class=\"edge\">\n",
       "<title>3&#45;&gt;4</title>\n",
       "<path fill=\"none\" stroke=\"black\" d=\"M172.95,-192.6C157.75,-180.94 140.73,-167.89 125.65,-156.32\"/>\n",
       "<polygon fill=\"black\" stroke=\"black\" points=\"128.08,-153.01 118.02,-149.71 123.82,-158.57 128.08,-153.01\"/>\n",
       "</g>\n",
       "<!-- 5 -->\n",
       "<g id=\"node6\" class=\"node\">\n",
       "<title>5</title>\n",
       "<path fill=\"#e58139\" stroke=\"black\" d=\"M349.5,-149.5C349.5,-149.5 197.5,-149.5 197.5,-149.5 191.5,-149.5 185.5,-143.5 185.5,-137.5 185.5,-137.5 185.5,-108.5 185.5,-108.5 185.5,-102.5 191.5,-96.5 197.5,-96.5 197.5,-96.5 349.5,-96.5 349.5,-96.5 355.5,-96.5 361.5,-102.5 361.5,-108.5 361.5,-108.5 361.5,-137.5 361.5,-137.5 361.5,-143.5 355.5,-149.5 349.5,-149.5\"/>\n",
       "<text text-anchor=\"start\" x=\"193.5\" y=\"-134.3\" font-family=\"Helvetica,sans-Serif\" font-size=\"14.00\">squared_error = 298.208</text>\n",
       "<text text-anchor=\"start\" x=\"230\" y=\"-119.3\" font-family=\"Helvetica,sans-Serif\" font-size=\"14.00\">samples = 20</text>\n",
       "<text text-anchor=\"start\" x=\"230.5\" y=\"-104.3\" font-family=\"Helvetica,sans-Serif\" font-size=\"14.00\">value = 57.75</text>\n",
       "</g>\n",
       "<!-- 3&#45;&gt;5 -->\n",
       "<g id=\"edge5\" class=\"edge\">\n",
       "<title>3&#45;&gt;5</title>\n",
       "<path fill=\"none\" stroke=\"black\" d=\"M235.16,-192.6C241.13,-181.93 247.75,-170.08 253.79,-159.27\"/>\n",
       "<polygon fill=\"black\" stroke=\"black\" points=\"257.31,-161.14 259.13,-150.71 251.2,-157.73 257.31,-161.14\"/>\n",
       "</g>\n",
       "<!-- 8 -->\n",
       "<g id=\"node9\" class=\"node\">\n",
       "<title>8</title>\n",
       "<path fill=\"#eca571\" stroke=\"black\" d=\"M830.5,-261C830.5,-261 588.5,-261 588.5,-261 582.5,-261 576.5,-255 576.5,-249 576.5,-249 576.5,-205 576.5,-205 576.5,-199 582.5,-193 588.5,-193 588.5,-193 830.5,-193 830.5,-193 836.5,-193 842.5,-199 842.5,-205 842.5,-205 842.5,-249 842.5,-249 842.5,-255 836.5,-261 830.5,-261\"/>\n",
       "<text text-anchor=\"start\" x=\"584.5\" y=\"-245.8\" font-family=\"Helvetica,sans-Serif\" font-size=\"14.00\">X4 number of convenience stores ≤ 7.5</text>\n",
       "<text text-anchor=\"start\" x=\"634\" y=\"-230.8\" font-family=\"Helvetica,sans-Serif\" font-size=\"14.00\">squared_error = 96.877</text>\n",
       "<text text-anchor=\"start\" x=\"666\" y=\"-215.8\" font-family=\"Helvetica,sans-Serif\" font-size=\"14.00\">samples = 51</text>\n",
       "<text text-anchor=\"start\" x=\"666.5\" y=\"-200.8\" font-family=\"Helvetica,sans-Serif\" font-size=\"14.00\">value = 46.28</text>\n",
       "</g>\n",
       "<!-- 7&#45;&gt;8 -->\n",
       "<g id=\"edge8\" class=\"edge\">\n",
       "<title>7&#45;&gt;8</title>\n",
       "<path fill=\"none\" stroke=\"black\" d=\"M854.77,-296.6C834.17,-286.87 811.5,-276.17 790.32,-266.17\"/>\n",
       "<polygon fill=\"black\" stroke=\"black\" points=\"791.92,-262.58 781.39,-261.47 788.93,-268.91 791.92,-262.58\"/>\n",
       "</g>\n",
       "<!-- 11 -->\n",
       "<g id=\"node12\" class=\"node\">\n",
       "<title>11</title>\n",
       "<path fill=\"#f1bc96\" stroke=\"black\" d=\"M1178,-261C1178,-261 873,-261 873,-261 867,-261 861,-255 861,-249 861,-249 861,-205 861,-205 861,-199 867,-193 873,-193 873,-193 1178,-193 1178,-193 1184,-193 1190,-199 1190,-205 1190,-205 1190,-249 1190,-249 1190,-255 1184,-261 1178,-261\"/>\n",
       "<text text-anchor=\"start\" x=\"869\" y=\"-245.8\" font-family=\"Helvetica,sans-Serif\" font-size=\"14.00\">X3 distance to the nearest MRT station ≤ 490.525</text>\n",
       "<text text-anchor=\"start\" x=\"950\" y=\"-230.8\" font-family=\"Helvetica,sans-Serif\" font-size=\"14.00\">squared_error = 46.235</text>\n",
       "<text text-anchor=\"start\" x=\"982\" y=\"-215.8\" font-family=\"Helvetica,sans-Serif\" font-size=\"14.00\">samples = 84</text>\n",
       "<text text-anchor=\"start\" x=\"978.5\" y=\"-200.8\" font-family=\"Helvetica,sans-Serif\" font-size=\"14.00\">value = 38.785</text>\n",
       "</g>\n",
       "<!-- 7&#45;&gt;11 -->\n",
       "<g id=\"edge11\" class=\"edge\">\n",
       "<title>7&#45;&gt;11</title>\n",
       "<path fill=\"none\" stroke=\"black\" d=\"M958.24,-296.6C966.79,-287.88 976.1,-278.38 985,-269.31\"/>\n",
       "<polygon fill=\"black\" stroke=\"black\" points=\"987.18,-272.06 991.68,-262.47 982.18,-267.16 987.18,-272.06\"/>\n",
       "</g>\n",
       "<!-- 9 -->\n",
       "<g id=\"node10\" class=\"node\">\n",
       "<title>9</title>\n",
       "<path fill=\"#edaa79\" stroke=\"black\" d=\"M591,-149.5C591,-149.5 448,-149.5 448,-149.5 442,-149.5 436,-143.5 436,-137.5 436,-137.5 436,-108.5 436,-108.5 436,-102.5 442,-96.5 448,-96.5 448,-96.5 591,-96.5 591,-96.5 597,-96.5 603,-102.5 603,-108.5 603,-108.5 603,-137.5 603,-137.5 603,-143.5 597,-149.5 591,-149.5\"/>\n",
       "<text text-anchor=\"start\" x=\"444\" y=\"-134.3\" font-family=\"Helvetica,sans-Serif\" font-size=\"14.00\">squared_error = 64.831</text>\n",
       "<text text-anchor=\"start\" x=\"476\" y=\"-119.3\" font-family=\"Helvetica,sans-Serif\" font-size=\"14.00\">samples = 31</text>\n",
       "<text text-anchor=\"start\" x=\"472.5\" y=\"-104.3\" font-family=\"Helvetica,sans-Serif\" font-size=\"14.00\">value = 44.703</text>\n",
       "</g>\n",
       "<!-- 8&#45;&gt;9 -->\n",
       "<g id=\"edge9\" class=\"edge\">\n",
       "<title>8&#45;&gt;9</title>\n",
       "<path fill=\"none\" stroke=\"black\" d=\"M647.29,-192.6C624.76,-180.51 599.42,-166.9 577.28,-155.02\"/>\n",
       "<polygon fill=\"black\" stroke=\"black\" points=\"579.15,-151.51 568.69,-149.87 575.84,-157.68 579.15,-151.51\"/>\n",
       "</g>\n",
       "<!-- 10 -->\n",
       "<g id=\"node11\" class=\"node\">\n",
       "<title>10</title>\n",
       "<path fill=\"#eb9d65\" stroke=\"black\" d=\"M785.5,-149.5C785.5,-149.5 633.5,-149.5 633.5,-149.5 627.5,-149.5 621.5,-143.5 621.5,-137.5 621.5,-137.5 621.5,-108.5 621.5,-108.5 621.5,-102.5 627.5,-96.5 633.5,-96.5 633.5,-96.5 785.5,-96.5 785.5,-96.5 791.5,-96.5 797.5,-102.5 797.5,-108.5 797.5,-108.5 797.5,-137.5 797.5,-137.5 797.5,-143.5 791.5,-149.5 785.5,-149.5\"/>\n",
       "<text text-anchor=\"start\" x=\"629.5\" y=\"-134.3\" font-family=\"Helvetica,sans-Serif\" font-size=\"14.00\">squared_error = 136.716</text>\n",
       "<text text-anchor=\"start\" x=\"666\" y=\"-119.3\" font-family=\"Helvetica,sans-Serif\" font-size=\"14.00\">samples = 20</text>\n",
       "<text text-anchor=\"start\" x=\"662.5\" y=\"-104.3\" font-family=\"Helvetica,sans-Serif\" font-size=\"14.00\">value = 48.725</text>\n",
       "</g>\n",
       "<!-- 8&#45;&gt;10 -->\n",
       "<g id=\"edge10\" class=\"edge\">\n",
       "<title>8&#45;&gt;10</title>\n",
       "<path fill=\"none\" stroke=\"black\" d=\"M709.5,-192.6C709.5,-182.36 709.5,-171.04 709.5,-160.6\"/>\n",
       "<polygon fill=\"black\" stroke=\"black\" points=\"713,-160.71 709.5,-150.71 706,-160.71 713,-160.71\"/>\n",
       "</g>\n",
       "<!-- 12 -->\n",
       "<g id=\"node13\" class=\"node\">\n",
       "<title>12</title>\n",
       "<path fill=\"#f3c3a0\" stroke=\"black\" d=\"M971,-149.5C971,-149.5 828,-149.5 828,-149.5 822,-149.5 816,-143.5 816,-137.5 816,-137.5 816,-108.5 816,-108.5 816,-102.5 822,-96.5 828,-96.5 828,-96.5 971,-96.5 971,-96.5 977,-96.5 983,-102.5 983,-108.5 983,-108.5 983,-137.5 983,-137.5 983,-143.5 977,-149.5 971,-149.5\"/>\n",
       "<text text-anchor=\"start\" x=\"824\" y=\"-134.3\" font-family=\"Helvetica,sans-Serif\" font-size=\"14.00\">squared_error = 45.617</text>\n",
       "<text text-anchor=\"start\" x=\"856\" y=\"-119.3\" font-family=\"Helvetica,sans-Serif\" font-size=\"14.00\">samples = 39</text>\n",
       "<text text-anchor=\"start\" x=\"852.5\" y=\"-104.3\" font-family=\"Helvetica,sans-Serif\" font-size=\"14.00\">value = 36.749</text>\n",
       "</g>\n",
       "<!-- 11&#45;&gt;12 -->\n",
       "<g id=\"edge12\" class=\"edge\">\n",
       "<title>11&#45;&gt;12</title>\n",
       "<path fill=\"none\" stroke=\"black\" d=\"M984.24,-192.6C969.84,-180.94 953.72,-167.89 939.43,-156.32\"/>\n",
       "<polygon fill=\"black\" stroke=\"black\" points=\"942.23,-153.28 932.25,-149.71 937.82,-158.72 942.23,-153.28\"/>\n",
       "</g>\n",
       "<!-- 13 -->\n",
       "<g id=\"node14\" class=\"node\">\n",
       "<title>13</title>\n",
       "<path fill=\"#f0b78d\" stroke=\"black\" d=\"M1310,-157C1310,-157 1013,-157 1013,-157 1007,-157 1001,-151 1001,-145 1001,-145 1001,-101 1001,-101 1001,-95 1007,-89 1013,-89 1013,-89 1310,-89 1310,-89 1316,-89 1322,-95 1322,-101 1322,-101 1322,-145 1322,-145 1322,-151 1316,-157 1310,-157\"/>\n",
       "<text text-anchor=\"start\" x=\"1009\" y=\"-141.8\" font-family=\"Helvetica,sans-Serif\" font-size=\"14.00\">X3 distance to the nearest MRT station ≤ 565.16</text>\n",
       "<text text-anchor=\"start\" x=\"1086\" y=\"-126.8\" font-family=\"Helvetica,sans-Serif\" font-size=\"14.00\">squared_error = 40.066</text>\n",
       "<text text-anchor=\"start\" x=\"1118\" y=\"-111.8\" font-family=\"Helvetica,sans-Serif\" font-size=\"14.00\">samples = 45</text>\n",
       "<text text-anchor=\"start\" x=\"1114.5\" y=\"-96.8\" font-family=\"Helvetica,sans-Serif\" font-size=\"14.00\">value = 40.549</text>\n",
       "</g>\n",
       "<!-- 11&#45;&gt;13 -->\n",
       "<g id=\"edge13\" class=\"edge\">\n",
       "<title>11&#45;&gt;13</title>\n",
       "<path fill=\"none\" stroke=\"black\" d=\"M1070.03,-192.6C1082.24,-183.44 1095.6,-173.42 1108.25,-163.94\"/>\n",
       "<polygon fill=\"black\" stroke=\"black\" points=\"1109.97,-166.27 1115.87,-157.47 1105.77,-160.67 1109.97,-166.27\"/>\n",
       "</g>\n",
       "<!-- 14 -->\n",
       "<g id=\"node15\" class=\"node\">\n",
       "<title>14</title>\n",
       "<path fill=\"#efb286\" stroke=\"black\" d=\"M1140,-53C1140,-53 997,-53 997,-53 991,-53 985,-47 985,-41 985,-41 985,-12 985,-12 985,-6 991,0 997,0 997,0 1140,0 1140,0 1146,0 1152,-6 1152,-12 1152,-12 1152,-41 1152,-41 1152,-47 1146,-53 1140,-53\"/>\n",
       "<text text-anchor=\"start\" x=\"993\" y=\"-37.8\" font-family=\"Helvetica,sans-Serif\" font-size=\"14.00\">squared_error = 24.894</text>\n",
       "<text text-anchor=\"start\" x=\"1025\" y=\"-22.8\" font-family=\"Helvetica,sans-Serif\" font-size=\"14.00\">samples = 22</text>\n",
       "<text text-anchor=\"start\" x=\"1021.5\" y=\"-7.8\" font-family=\"Helvetica,sans-Serif\" font-size=\"14.00\">value = 42.027</text>\n",
       "</g>\n",
       "<!-- 13&#45;&gt;14 -->\n",
       "<g id=\"edge14\" class=\"edge\">\n",
       "<title>13&#45;&gt;14</title>\n",
       "<path fill=\"none\" stroke=\"black\" d=\"M1128.71,-88.68C1119.89,-79.72 1110.35,-70.03 1101.52,-61.06\"/>\n",
       "<polygon fill=\"black\" stroke=\"black\" points=\"1104.49,-59.07 1094.98,-54.39 1099.5,-63.98 1104.49,-59.07\"/>\n",
       "</g>\n",
       "<!-- 15 -->\n",
       "<g id=\"node16\" class=\"node\">\n",
       "<title>15</title>\n",
       "<path fill=\"#f1bb94\" stroke=\"black\" d=\"M1325,-53C1325,-53 1182,-53 1182,-53 1176,-53 1170,-47 1170,-41 1170,-41 1170,-12 1170,-12 1170,-6 1176,0 1182,0 1182,0 1325,0 1325,0 1331,0 1337,-6 1337,-12 1337,-12 1337,-41 1337,-41 1337,-47 1331,-53 1325,-53\"/>\n",
       "<text text-anchor=\"start\" x=\"1178\" y=\"-37.8\" font-family=\"Helvetica,sans-Serif\" font-size=\"14.00\">squared_error = 50.487</text>\n",
       "<text text-anchor=\"start\" x=\"1210\" y=\"-22.8\" font-family=\"Helvetica,sans-Serif\" font-size=\"14.00\">samples = 23</text>\n",
       "<text text-anchor=\"start\" x=\"1206.5\" y=\"-7.8\" font-family=\"Helvetica,sans-Serif\" font-size=\"14.00\">value = 39.135</text>\n",
       "</g>\n",
       "<!-- 13&#45;&gt;15 -->\n",
       "<g id=\"edge15\" class=\"edge\">\n",
       "<title>13&#45;&gt;15</title>\n",
       "<path fill=\"none\" stroke=\"black\" d=\"M1193.94,-88.68C1202.66,-79.72 1212.1,-70.03 1220.83,-61.06\"/>\n",
       "<polygon fill=\"black\" stroke=\"black\" points=\"1222.82,-64 1227.29,-54.39 1217.81,-59.12 1222.82,-64\"/>\n",
       "</g>\n",
       "<!-- 17 -->\n",
       "<g id=\"node18\" class=\"node\">\n",
       "<title>17</title>\n",
       "<path fill=\"#f8decb\" stroke=\"black\" d=\"M1495,-365C1495,-365 1352,-365 1352,-365 1346,-365 1340,-359 1340,-353 1340,-353 1340,-309 1340,-309 1340,-303 1346,-297 1352,-297 1352,-297 1495,-297 1495,-297 1501,-297 1507,-303 1507,-309 1507,-309 1507,-353 1507,-353 1507,-359 1501,-365 1495,-365\"/>\n",
       "<text text-anchor=\"start\" x=\"1353\" y=\"-349.8\" font-family=\"Helvetica,sans-Serif\" font-size=\"14.00\">X2 house age ≤ 17.85</text>\n",
       "<text text-anchor=\"start\" x=\"1348\" y=\"-334.8\" font-family=\"Helvetica,sans-Serif\" font-size=\"14.00\">squared_error = 48.436</text>\n",
       "<text text-anchor=\"start\" x=\"1380\" y=\"-319.8\" font-family=\"Helvetica,sans-Serif\" font-size=\"14.00\">samples = 95</text>\n",
       "<text text-anchor=\"start\" x=\"1376.5\" y=\"-304.8\" font-family=\"Helvetica,sans-Serif\" font-size=\"14.00\">value = 27.932</text>\n",
       "</g>\n",
       "<!-- 16&#45;&gt;17 -->\n",
       "<g id=\"edge17\" class=\"edge\">\n",
       "<title>16&#45;&gt;17</title>\n",
       "<path fill=\"none\" stroke=\"black\" d=\"M1423.5,-400.6C1423.5,-392.85 1423.5,-384.49 1423.5,-376.35\"/>\n",
       "<polygon fill=\"black\" stroke=\"black\" points=\"1427,-376.47 1423.5,-366.47 1420,-376.47 1427,-376.47\"/>\n",
       "</g>\n",
       "<!-- 24 -->\n",
       "<g id=\"node25\" class=\"node\">\n",
       "<title>24</title>\n",
       "<path fill=\"#ffffff\" stroke=\"black\" d=\"M1680,-357.5C1680,-357.5 1537,-357.5 1537,-357.5 1531,-357.5 1525,-351.5 1525,-345.5 1525,-345.5 1525,-316.5 1525,-316.5 1525,-310.5 1531,-304.5 1537,-304.5 1537,-304.5 1680,-304.5 1680,-304.5 1686,-304.5 1692,-310.5 1692,-316.5 1692,-316.5 1692,-345.5 1692,-345.5 1692,-351.5 1686,-357.5 1680,-357.5\"/>\n",
       "<text text-anchor=\"start\" x=\"1533\" y=\"-342.3\" font-family=\"Helvetica,sans-Serif\" font-size=\"14.00\">squared_error = 14.978</text>\n",
       "<text text-anchor=\"start\" x=\"1565\" y=\"-327.3\" font-family=\"Helvetica,sans-Serif\" font-size=\"14.00\">samples = 24</text>\n",
       "<text text-anchor=\"start\" x=\"1569.5\" y=\"-312.3\" font-family=\"Helvetica,sans-Serif\" font-size=\"14.00\">value = 17.4</text>\n",
       "</g>\n",
       "<!-- 16&#45;&gt;24 -->\n",
       "<g id=\"edge24\" class=\"edge\">\n",
       "<title>16&#45;&gt;24</title>\n",
       "<path fill=\"none\" stroke=\"black\" d=\"M1484.08,-400.6C1506.01,-388.51 1530.68,-374.9 1552.24,-363.02\"/>\n",
       "<polygon fill=\"black\" stroke=\"black\" points=\"1553.51,-365.76 1560.58,-357.87 1550.13,-359.63 1553.51,-365.76\"/>\n",
       "</g>\n",
       "<!-- 18 -->\n",
       "<g id=\"node19\" class=\"node\">\n",
       "<title>18</title>\n",
       "<path fill=\"#f7d8c2\" stroke=\"black\" d=\"M1580.5,-261C1580.5,-261 1266.5,-261 1266.5,-261 1260.5,-261 1254.5,-255 1254.5,-249 1254.5,-249 1254.5,-205 1254.5,-205 1254.5,-199 1260.5,-193 1266.5,-193 1266.5,-193 1580.5,-193 1580.5,-193 1586.5,-193 1592.5,-199 1592.5,-205 1592.5,-205 1592.5,-249 1592.5,-249 1592.5,-255 1586.5,-261 1580.5,-261\"/>\n",
       "<text text-anchor=\"start\" x=\"1262.5\" y=\"-245.8\" font-family=\"Helvetica,sans-Serif\" font-size=\"14.00\">X3 distance to the nearest MRT station ≤ 1428.076</text>\n",
       "<text text-anchor=\"start\" x=\"1348\" y=\"-230.8\" font-family=\"Helvetica,sans-Serif\" font-size=\"14.00\">squared_error = 45.261</text>\n",
       "<text text-anchor=\"start\" x=\"1380\" y=\"-215.8\" font-family=\"Helvetica,sans-Serif\" font-size=\"14.00\">samples = 66</text>\n",
       "<text text-anchor=\"start\" x=\"1376.5\" y=\"-200.8\" font-family=\"Helvetica,sans-Serif\" font-size=\"14.00\">value = 29.777</text>\n",
       "</g>\n",
       "<!-- 17&#45;&gt;18 -->\n",
       "<g id=\"edge18\" class=\"edge\">\n",
       "<title>17&#45;&gt;18</title>\n",
       "<path fill=\"none\" stroke=\"black\" d=\"M1423.5,-296.6C1423.5,-288.85 1423.5,-280.49 1423.5,-272.35\"/>\n",
       "<polygon fill=\"black\" stroke=\"black\" points=\"1427,-272.47 1423.5,-262.47 1420,-272.47 1427,-272.47\"/>\n",
       "</g>\n",
       "<!-- 23 -->\n",
       "<g id=\"node24\" class=\"node\">\n",
       "<title>23</title>\n",
       "<path fill=\"#fbebe0\" stroke=\"black\" d=\"M1766,-253.5C1766,-253.5 1623,-253.5 1623,-253.5 1617,-253.5 1611,-247.5 1611,-241.5 1611,-241.5 1611,-212.5 1611,-212.5 1611,-206.5 1617,-200.5 1623,-200.5 1623,-200.5 1766,-200.5 1766,-200.5 1772,-200.5 1778,-206.5 1778,-212.5 1778,-212.5 1778,-241.5 1778,-241.5 1778,-247.5 1772,-253.5 1766,-253.5\"/>\n",
       "<text text-anchor=\"start\" x=\"1619\" y=\"-238.3\" font-family=\"Helvetica,sans-Serif\" font-size=\"14.00\">squared_error = 30.266</text>\n",
       "<text text-anchor=\"start\" x=\"1651\" y=\"-223.3\" font-family=\"Helvetica,sans-Serif\" font-size=\"14.00\">samples = 29</text>\n",
       "<text text-anchor=\"start\" x=\"1647.5\" y=\"-208.3\" font-family=\"Helvetica,sans-Serif\" font-size=\"14.00\">value = 23.731</text>\n",
       "</g>\n",
       "<!-- 17&#45;&gt;23 -->\n",
       "<g id=\"edge23\" class=\"edge\">\n",
       "<title>17&#45;&gt;23</title>\n",
       "<path fill=\"none\" stroke=\"black\" d=\"M1507.39,-298.43C1541.91,-285.43 1581.69,-270.46 1615.67,-257.67\"/>\n",
       "<polygon fill=\"black\" stroke=\"black\" points=\"1616.42,-260.75 1624.55,-253.95 1613.96,-254.2 1616.42,-260.75\"/>\n",
       "</g>\n",
       "<!-- 19 -->\n",
       "<g id=\"node20\" class=\"node\">\n",
       "<title>19</title>\n",
       "<path fill=\"#f4cbad\" stroke=\"black\" d=\"M1495,-149.5C1495,-149.5 1352,-149.5 1352,-149.5 1346,-149.5 1340,-143.5 1340,-137.5 1340,-137.5 1340,-108.5 1340,-108.5 1340,-102.5 1346,-96.5 1352,-96.5 1352,-96.5 1495,-96.5 1495,-96.5 1501,-96.5 1507,-102.5 1507,-108.5 1507,-108.5 1507,-137.5 1507,-137.5 1507,-143.5 1501,-149.5 1495,-149.5\"/>\n",
       "<text text-anchor=\"start\" x=\"1348\" y=\"-134.3\" font-family=\"Helvetica,sans-Serif\" font-size=\"14.00\">squared_error = 48.653</text>\n",
       "<text text-anchor=\"start\" x=\"1380\" y=\"-119.3\" font-family=\"Helvetica,sans-Serif\" font-size=\"14.00\">samples = 22</text>\n",
       "<text text-anchor=\"start\" x=\"1376.5\" y=\"-104.3\" font-family=\"Helvetica,sans-Serif\" font-size=\"14.00\">value = 34.159</text>\n",
       "</g>\n",
       "<!-- 18&#45;&gt;19 -->\n",
       "<g id=\"edge19\" class=\"edge\">\n",
       "<title>18&#45;&gt;19</title>\n",
       "<path fill=\"none\" stroke=\"black\" d=\"M1423.5,-192.6C1423.5,-182.36 1423.5,-171.04 1423.5,-160.6\"/>\n",
       "<polygon fill=\"black\" stroke=\"black\" points=\"1427,-160.71 1423.5,-150.71 1420,-160.71 1427,-160.71\"/>\n",
       "</g>\n",
       "<!-- 20 -->\n",
       "<g id=\"node21\" class=\"node\">\n",
       "<title>20</title>\n",
       "<path fill=\"#f8dfcd\" stroke=\"black\" d=\"M1851.5,-157C1851.5,-157 1537.5,-157 1537.5,-157 1531.5,-157 1525.5,-151 1525.5,-145 1525.5,-145 1525.5,-101 1525.5,-101 1525.5,-95 1531.5,-89 1537.5,-89 1537.5,-89 1851.5,-89 1851.5,-89 1857.5,-89 1863.5,-95 1863.5,-101 1863.5,-101 1863.5,-145 1863.5,-145 1863.5,-151 1857.5,-157 1851.5,-157\"/>\n",
       "<text text-anchor=\"start\" x=\"1533.5\" y=\"-141.8\" font-family=\"Helvetica,sans-Serif\" font-size=\"14.00\">X3 distance to the nearest MRT station ≤ 2125.465</text>\n",
       "<text text-anchor=\"start\" x=\"1619\" y=\"-126.8\" font-family=\"Helvetica,sans-Serif\" font-size=\"14.00\">squared_error = 29.165</text>\n",
       "<text text-anchor=\"start\" x=\"1651\" y=\"-111.8\" font-family=\"Helvetica,sans-Serif\" font-size=\"14.00\">samples = 44</text>\n",
       "<text text-anchor=\"start\" x=\"1647.5\" y=\"-96.8\" font-family=\"Helvetica,sans-Serif\" font-size=\"14.00\">value = 27.586</text>\n",
       "</g>\n",
       "<!-- 18&#45;&gt;20 -->\n",
       "<g id=\"edge20\" class=\"edge\">\n",
       "<title>18&#45;&gt;20</title>\n",
       "<path fill=\"none\" stroke=\"black\" d=\"M1512.24,-192.6C1538.91,-182.56 1568.33,-171.49 1595.62,-161.22\"/>\n",
       "<polygon fill=\"black\" stroke=\"black\" points=\"1596.44,-164.27 1604.57,-157.47 1593.97,-157.72 1596.44,-164.27\"/>\n",
       "</g>\n",
       "<!-- 21 -->\n",
       "<g id=\"node22\" class=\"node\">\n",
       "<title>21</title>\n",
       "<path fill=\"#f9e3d3\" stroke=\"black\" d=\"M1673,-53C1673,-53 1530,-53 1530,-53 1524,-53 1518,-47 1518,-41 1518,-41 1518,-12 1518,-12 1518,-6 1524,0 1530,0 1530,0 1673,0 1673,0 1679,0 1685,-6 1685,-12 1685,-12 1685,-41 1685,-41 1685,-47 1679,-53 1673,-53\"/>\n",
       "<text text-anchor=\"start\" x=\"1526\" y=\"-37.8\" font-family=\"Helvetica,sans-Serif\" font-size=\"14.00\">squared_error = 15.077</text>\n",
       "<text text-anchor=\"start\" x=\"1558\" y=\"-22.8\" font-family=\"Helvetica,sans-Serif\" font-size=\"14.00\">samples = 23</text>\n",
       "<text text-anchor=\"start\" x=\"1562.5\" y=\"-7.8\" font-family=\"Helvetica,sans-Serif\" font-size=\"14.00\">value = 26.3</text>\n",
       "</g>\n",
       "<!-- 20&#45;&gt;21 -->\n",
       "<g id=\"edge21\" class=\"edge\">\n",
       "<title>20&#45;&gt;21</title>\n",
       "<path fill=\"none\" stroke=\"black\" d=\"M1661.71,-88.68C1652.89,-79.72 1643.35,-70.03 1634.52,-61.06\"/>\n",
       "<polygon fill=\"black\" stroke=\"black\" points=\"1637.49,-59.07 1627.98,-54.39 1632.5,-63.98 1637.49,-59.07\"/>\n",
       "</g>\n",
       "<!-- 22 -->\n",
       "<g id=\"node23\" class=\"node\">\n",
       "<title>22</title>\n",
       "<path fill=\"#f8dbc6\" stroke=\"black\" d=\"M1858,-53C1858,-53 1715,-53 1715,-53 1709,-53 1703,-47 1703,-41 1703,-41 1703,-12 1703,-12 1703,-6 1709,0 1715,0 1715,0 1858,0 1858,0 1864,0 1870,-6 1870,-12 1870,-12 1870,-41 1870,-41 1870,-47 1864,-53 1858,-53\"/>\n",
       "<text text-anchor=\"start\" x=\"1711\" y=\"-37.8\" font-family=\"Helvetica,sans-Serif\" font-size=\"14.00\">squared_error = 40.797</text>\n",
       "<text text-anchor=\"start\" x=\"1743\" y=\"-22.8\" font-family=\"Helvetica,sans-Serif\" font-size=\"14.00\">samples = 21</text>\n",
       "<text text-anchor=\"start\" x=\"1739.5\" y=\"-7.8\" font-family=\"Helvetica,sans-Serif\" font-size=\"14.00\">value = 28.995</text>\n",
       "</g>\n",
       "<!-- 20&#45;&gt;22 -->\n",
       "<g id=\"edge22\" class=\"edge\">\n",
       "<title>20&#45;&gt;22</title>\n",
       "<path fill=\"none\" stroke=\"black\" d=\"M1726.94,-88.68C1735.66,-79.72 1745.1,-70.03 1753.83,-61.06\"/>\n",
       "<polygon fill=\"black\" stroke=\"black\" points=\"1755.82,-64 1760.29,-54.39 1750.81,-59.12 1755.82,-64\"/>\n",
       "</g>\n",
       "</g>\n",
       "</svg>\n"
      ],
      "text/plain": [
       "<graphviz.sources.Source at 0x255f0b59ca0>"
      ]
     },
     "execution_count": 16,
     "metadata": {},
     "output_type": "execute_result"
    }
   ],
   "source": [
    "from sklearn.tree import export_graphviz\n",
    "import graphviz\n",
    "\n",
    "# export the decision tree to a dot file\n",
    "dot_data = export_graphviz(tree_reg, out_file=None, feature_names=X.columns, filled=True, rounded=True, special_characters=True)\n",
    "\n",
    "# create the graph from the dot file\n",
    "graph = graphviz.Source(dot_data)\n",
    "\n",
    "# display the graph\n",
    "graph\n"
   ]
  },
  {
   "cell_type": "markdown",
   "metadata": {},
   "source": [
    "The DecisionTreeRegressor works by recursively partitioning the data into subsets based on the values of the independent variables. At each node of the tree, the algorithm selects the variable and the split point that minimize the mean squared error (MSE) of the dependent variable. The MSE is a measure of the variance of the target variable in the subset.\n",
    "\n",
    "The splitting process continues until the tree reaches a stopping criterion, such as a maximum depth, a minimum number of samples in a leaf node, or a minimum reduction in MSE. Once the tree is built, the dependent variable is predicted by traversing the tree from the root node to a leaf node that corresponds to the test data.\n",
    "\n",
    "The main advantage of decision trees is their interpretability, as the splitting rules can be easily visualized and understood. However, decision trees are prone to overfitting and can be unstable, as small changes in the data can lead to large changes in the tree structure. To address these issues, ensemble methods such as Random Forest and Gradient Boosting are often used"
   ]
  },
  {
   "cell_type": "markdown",
   "metadata": {},
   "source": [
    "#### c) Hyperparameter-Optimierung mittels Rastersuche und Kreuzvalidierung"
   ]
  },
  {
   "cell_type": "markdown",
   "metadata": {},
   "source": [
    "Lesen Sie die <a  href=\"https://scikit-learn.org/stable/modules/generated/sklearn.model_selection.GridSearchCV.html\">Dokumentation</a> der Klasse `GridSearchCV` aus dem Modul `sklearn.model_selection`. Verwenden Sie diese anschließend, um die Hyperparameter `max_depth` und `min_samples_leaf` durch Rastersuche (engl. \"grid search\") zu optimieren. Beschränken Sie sich bei der Rastersuche auf die Daten des Trainingsdatensatzes aus Aufgabe 1. Testen Sie für `max_depth` die Werte aus der Menge $\\{1,2,3,4,5\\}$ und für \n",
    "`min_samples_leaf` die Werte aus der Menge $\\{5,10,20,30\\}$. Geben Sie für jede mögliche Parameter-Kombination den durch $10$-fache Kreuzvalidierung erhaltenen mittleren $R^2$-Wert aus. Für welche Werte der Hyperparameter ist dieser am größten? <br><br>\n",
    "Hinweise: die Ergebnisse der GridSearch werden im Attribut `cv_results_` abgelegt. Die optimalen Parameter und das entsprechende Bewertungsmaß (hier: $R^2$) werden in den Attributen `best_params_` und `best_score_` abgelegt. "
   ]
  },
  {
   "cell_type": "code",
   "execution_count": 17,
   "metadata": {},
   "outputs": [],
   "source": [
    "from sklearn.model_selection import GridSearchCV"
   ]
  },
  {
   "cell_type": "code",
   "execution_count": 18,
   "metadata": {},
   "outputs": [
    {
     "name": "stdout",
     "output_type": "stream",
     "text": [
      "Best parameters: {'max_depth': 5, 'min_samples_leaf': 20}\n",
      "R^2 score: 0.7262696909191922\n",
      "###################################################################################\n",
      "Parameters: {'max_depth': 1, 'min_samples_leaf': 5}\n",
      "Mean R^2 score: 0.4430087917125558\n",
      "Parameters: {'max_depth': 1, 'min_samples_leaf': 10}\n",
      "Mean R^2 score: 0.4430087917125558\n",
      "Parameters: {'max_depth': 1, 'min_samples_leaf': 20}\n",
      "Mean R^2 score: 0.4430087917125558\n",
      "Parameters: {'max_depth': 1, 'min_samples_leaf': 30}\n",
      "Mean R^2 score: 0.4430087917125558\n",
      "Parameters: {'max_depth': 2, 'min_samples_leaf': 5}\n",
      "Mean R^2 score: 0.5475774443743813\n",
      "Parameters: {'max_depth': 2, 'min_samples_leaf': 10}\n",
      "Mean R^2 score: 0.5475774443743813\n",
      "Parameters: {'max_depth': 2, 'min_samples_leaf': 20}\n",
      "Mean R^2 score: 0.5475390684063143\n",
      "Parameters: {'max_depth': 2, 'min_samples_leaf': 30}\n",
      "Mean R^2 score: 0.5380838156595862\n",
      "Parameters: {'max_depth': 3, 'min_samples_leaf': 5}\n",
      "Mean R^2 score: 0.6013752474394484\n",
      "Parameters: {'max_depth': 3, 'min_samples_leaf': 10}\n",
      "Mean R^2 score: 0.6053241257706602\n",
      "Parameters: {'max_depth': 3, 'min_samples_leaf': 20}\n",
      "Mean R^2 score: 0.6086516645885436\n",
      "Parameters: {'max_depth': 3, 'min_samples_leaf': 30}\n",
      "Mean R^2 score: 0.5844194589270032\n",
      "Parameters: {'max_depth': 4, 'min_samples_leaf': 5}\n",
      "Mean R^2 score: 0.6030189916795414\n",
      "Parameters: {'max_depth': 4, 'min_samples_leaf': 10}\n",
      "Mean R^2 score: 0.591213386168722\n",
      "Parameters: {'max_depth': 4, 'min_samples_leaf': 20}\n",
      "Mean R^2 score: 0.6084576941605531\n",
      "Parameters: {'max_depth': 4, 'min_samples_leaf': 30}\n",
      "Mean R^2 score: 0.5868105775387933\n",
      "Parameters: {'max_depth': 5, 'min_samples_leaf': 5}\n",
      "Mean R^2 score: 0.6049213953266925\n",
      "Parameters: {'max_depth': 5, 'min_samples_leaf': 10}\n",
      "Mean R^2 score: 0.6055221442242672\n",
      "Parameters: {'max_depth': 5, 'min_samples_leaf': 20}\n",
      "Mean R^2 score: 0.6095280299009742\n",
      "Parameters: {'max_depth': 5, 'min_samples_leaf': 30}\n",
      "Mean R^2 score: 0.5868105775387933\n"
     ]
    }
   ],
   "source": [
    "# Define the parameter grid\n",
    "param_grid = {'max_depth': [1, 2, 3, 4, 5],\n",
    "              'min_samples_leaf': [5, 10, 20, 30]}\n",
    "\n",
    "# Create a decision tree regressor object\n",
    "dt_reg = DecisionTreeRegressor(random_state=42)\n",
    "\n",
    "# Create a GridSearchCV object\n",
    "#cv = cross validate (how often)\n",
    "grid_search = GridSearchCV(estimator=dt_reg, param_grid=param_grid, cv=10, scoring='r2')\n",
    "\n",
    "# Fit the GridSearchCV object to the data\n",
    "grid_search.fit(X_train, y_train)\n",
    "\n",
    "# Get the best parameter combination\n",
    "best_params = grid_search.best_params_\n",
    "\n",
    "# Get the best model\n",
    "best_model = grid_search.best_estimator_\n",
    "\n",
    "# Predict on the test set using the best model\n",
    "y_pred = best_model.predict(X_test)\n",
    "\n",
    "# Calculate the R^2 score on the test set\n",
    "r2 = r2_score(y_test, y_pred)\n",
    "\n",
    "# Print the best parameter combination and the R^2 score\n",
    "print(\"Best parameters:\", best_params)\n",
    "print(\"R^2 score:\", r2)\n",
    "print(\"###################################################################################\")\n",
    "###################################################################################\n",
    "#The best model is done now. We just wanna get some interesting stats here\n",
    "\n",
    "# Get the mean cross-validated scores for each parameter combination\n",
    "cv_results = grid_search.cv_results_\n",
    "for mean_score, params in zip(cv_results['mean_test_score'], cv_results['params']):\n",
    "    print(\"Parameters:\", params)\n",
    "    print(\"Mean R^2 score:\", mean_score)\n",
    "\n"
   ]
  },
  {
   "cell_type": "markdown",
   "metadata": {},
   "source": [
    "If you're wondering why the best score isn't in this list, that's because it's only listing the mean of the kFold attempts for each hyperparameter combination. So one of the train/test splits resulted in that highest score, but the mean obviously doesn't show that."
   ]
  },
  {
   "cell_type": "markdown",
   "metadata": {},
   "source": [
    "#### d) Residual-Plot"
   ]
  },
  {
   "cell_type": "markdown",
   "metadata": {},
   "source": [
    "Zeichnen Sie einen Residual-Plot auf dem Testdatensatz und vergleichen Sie die Ergebnisse mit den Ergebnissen, die Sie für die Lineare Regression erhalten hatten."
   ]
  },
  {
   "cell_type": "code",
   "execution_count": 19,
   "metadata": {
    "scrolled": true
   },
   "outputs": [
    {
     "data": {
      "text/html": [
       "<style>#sk-container-id-1 {color: black;background-color: white;}#sk-container-id-1 pre{padding: 0;}#sk-container-id-1 div.sk-toggleable {background-color: white;}#sk-container-id-1 label.sk-toggleable__label {cursor: pointer;display: block;width: 100%;margin-bottom: 0;padding: 0.3em;box-sizing: border-box;text-align: center;}#sk-container-id-1 label.sk-toggleable__label-arrow:before {content: \"▸\";float: left;margin-right: 0.25em;color: #696969;}#sk-container-id-1 label.sk-toggleable__label-arrow:hover:before {color: black;}#sk-container-id-1 div.sk-estimator:hover label.sk-toggleable__label-arrow:before {color: black;}#sk-container-id-1 div.sk-toggleable__content {max-height: 0;max-width: 0;overflow: hidden;text-align: left;background-color: #f0f8ff;}#sk-container-id-1 div.sk-toggleable__content pre {margin: 0.2em;color: black;border-radius: 0.25em;background-color: #f0f8ff;}#sk-container-id-1 input.sk-toggleable__control:checked~div.sk-toggleable__content {max-height: 200px;max-width: 100%;overflow: auto;}#sk-container-id-1 input.sk-toggleable__control:checked~label.sk-toggleable__label-arrow:before {content: \"▾\";}#sk-container-id-1 div.sk-estimator input.sk-toggleable__control:checked~label.sk-toggleable__label {background-color: #d4ebff;}#sk-container-id-1 div.sk-label input.sk-toggleable__control:checked~label.sk-toggleable__label {background-color: #d4ebff;}#sk-container-id-1 input.sk-hidden--visually {border: 0;clip: rect(1px 1px 1px 1px);clip: rect(1px, 1px, 1px, 1px);height: 1px;margin: -1px;overflow: hidden;padding: 0;position: absolute;width: 1px;}#sk-container-id-1 div.sk-estimator {font-family: monospace;background-color: #f0f8ff;border: 1px dotted black;border-radius: 0.25em;box-sizing: border-box;margin-bottom: 0.5em;}#sk-container-id-1 div.sk-estimator:hover {background-color: #d4ebff;}#sk-container-id-1 div.sk-parallel-item::after {content: \"\";width: 100%;border-bottom: 1px solid gray;flex-grow: 1;}#sk-container-id-1 div.sk-label:hover label.sk-toggleable__label {background-color: #d4ebff;}#sk-container-id-1 div.sk-serial::before {content: \"\";position: absolute;border-left: 1px solid gray;box-sizing: border-box;top: 0;bottom: 0;left: 50%;z-index: 0;}#sk-container-id-1 div.sk-serial {display: flex;flex-direction: column;align-items: center;background-color: white;padding-right: 0.2em;padding-left: 0.2em;position: relative;}#sk-container-id-1 div.sk-item {position: relative;z-index: 1;}#sk-container-id-1 div.sk-parallel {display: flex;align-items: stretch;justify-content: center;background-color: white;position: relative;}#sk-container-id-1 div.sk-item::before, #sk-container-id-1 div.sk-parallel-item::before {content: \"\";position: absolute;border-left: 1px solid gray;box-sizing: border-box;top: 0;bottom: 0;left: 50%;z-index: -1;}#sk-container-id-1 div.sk-parallel-item {display: flex;flex-direction: column;z-index: 1;position: relative;background-color: white;}#sk-container-id-1 div.sk-parallel-item:first-child::after {align-self: flex-end;width: 50%;}#sk-container-id-1 div.sk-parallel-item:last-child::after {align-self: flex-start;width: 50%;}#sk-container-id-1 div.sk-parallel-item:only-child::after {width: 0;}#sk-container-id-1 div.sk-dashed-wrapped {border: 1px dashed gray;margin: 0 0.4em 0.5em 0.4em;box-sizing: border-box;padding-bottom: 0.4em;background-color: white;}#sk-container-id-1 div.sk-label label {font-family: monospace;font-weight: bold;display: inline-block;line-height: 1.2em;}#sk-container-id-1 div.sk-label-container {text-align: center;}#sk-container-id-1 div.sk-container {/* jupyter's `normalize.less` sets `[hidden] { display: none; }` but bootstrap.min.css set `[hidden] { display: none !important; }` so we also need the `!important` here to be able to override the default hidden behavior on the sphinx rendered scikit-learn.org. See: https://github.com/scikit-learn/scikit-learn/issues/21755 */display: inline-block !important;position: relative;}#sk-container-id-1 div.sk-text-repr-fallback {display: none;}</style><div id=\"sk-container-id-1\" class=\"sk-top-container\"><div class=\"sk-text-repr-fallback\"><pre>DecisionTreeRegressor(max_depth=5, min_samples_leaf=20, random_state=42)</pre><b>In a Jupyter environment, please rerun this cell to show the HTML representation or trust the notebook. <br />On GitHub, the HTML representation is unable to render, please try loading this page with nbviewer.org.</b></div><div class=\"sk-container\" hidden><div class=\"sk-item\"><div class=\"sk-estimator sk-toggleable\"><input class=\"sk-toggleable__control sk-hidden--visually\" id=\"sk-estimator-id-1\" type=\"checkbox\" checked><label for=\"sk-estimator-id-1\" class=\"sk-toggleable__label sk-toggleable__label-arrow\">DecisionTreeRegressor</label><div class=\"sk-toggleable__content\"><pre>DecisionTreeRegressor(max_depth=5, min_samples_leaf=20, random_state=42)</pre></div></div></div></div></div>"
      ],
      "text/plain": [
       "DecisionTreeRegressor(max_depth=5, min_samples_leaf=20, random_state=42)"
      ]
     },
     "execution_count": 19,
     "metadata": {},
     "output_type": "execute_result"
    }
   ],
   "source": [
    "grid_search.best_estimator_"
   ]
  },
  {
   "cell_type": "code",
   "execution_count": 20,
   "metadata": {},
   "outputs": [
    {
     "data": {
      "image/png": "[encoded data removed]",
      "text/plain": [
       "<Figure size 640x480 with 1 Axes>"
      ]
     },
     "metadata": {},
     "output_type": "display_data"
    }
   ],
   "source": [
    "model = DecisionTreeRegressor(max_depth=5, min_samples_leaf=20)\n",
    "model.fit(X_train, y_train)\n",
    "y_pred = model.predict(X_test)\n",
    "residuals = y_test - y_pred\n",
    "plt.scatter(y_pred, residuals)\n",
    "plt.xlabel('Predicted Values')\n",
    "plt.ylabel('Residuals')\n",
    "plt.axhline(y=0, color='r', linestyle='-')\n",
    "plt.show()\n"
   ]
  },
  {
   "cell_type": "markdown",
   "metadata": {},
   "source": [
    "## Aufgabe 4 (Nichtlineare Transformation von Input-Features)"
   ]
  },
  {
   "cell_type": "markdown",
   "metadata": {},
   "source": [
    "#### a) Histogramm"
   ]
  },
  {
   "cell_type": "markdown",
   "metadata": {},
   "source": [
    "Zeichnen Sie ein Histogramm der Spalte `X3 distance to the nearest MRT station` des DataFrames `df`. Was fällt auf?"
   ]
  },
  {
   "cell_type": "code",
   "execution_count": 21,
   "metadata": {},
   "outputs": [
    {
     "data": {
      "image/png": "[encoded data removed]",
      "text/plain": [
       "<Figure size 640x480 with 1 Axes>"
      ]
     },
     "metadata": {},
     "output_type": "display_data"
    }
   ],
   "source": [
    "# Calculate the number of bins using Sturges' Rule\n",
    "num_bins = int(1 + np.log2(len(df['X3 distance to the nearest MRT station'])))\n",
    "\n",
    "# Plot the histogram with the calculated number of bins\n",
    "plt.hist(df['X3 distance to the nearest MRT station'], bins=num_bins)\n",
    "\n",
    "# Add labels and title to the plot\n",
    "plt.xlabel('Data')\n",
    "plt.ylabel('Frequency')\n",
    "plt.title('Histogram with {} bins'.format(num_bins))\n",
    "\n",
    "# Display the plot\n",
    "plt.show()"
   ]
  },
  {
   "cell_type": "markdown",
   "metadata": {},
   "source": [
    "#### b) Transformation der Spalte `X3 distance to the nearest MRT station`."
   ]
  },
  {
   "cell_type": "markdown",
   "metadata": {},
   "source": [
    "Transformieren Sie die Spalte `X3 distance to the nearest MRT station` von `df` mit der Funktion $\\phi(x)=\\log(x+1)$ und zeichen Sie erneut ein Histogramm der transformierten Spalte. Wenden Sie die Transformation anschließend auch auf die oben definierten DataFrames `X_train` und `X_test` an."
   ]
  },
  {
   "cell_type": "code",
   "execution_count": 22,
   "metadata": {},
   "outputs": [
    {
     "name": "stderr",
     "output_type": "stream",
     "text": [
      "C:\\Users\\Carl Küschall\\AppData\\Local\\Temp\\ipykernel_30536\\1460463542.py:2: SettingWithCopyWarning: \n",
      "A value is trying to be set on a copy of a slice from a DataFrame\n",
      "\n",
      "See the caveats in the documentation: https://pandas.pydata.org/pandas-docs/stable/user_guide/indexing.html#returning-a-view-versus-a-copy\n",
      "  df['X3 distance to the nearest MRT station'][x] = np.log(df['X3 distance to the nearest MRT station'][x]+1)\n"
     ]
    }
   ],
   "source": [
    "for x in range(len(df['X3 distance to the nearest MRT station'])):\n",
    "    df['X3 distance to the nearest MRT station'][x] = np.log(df['X3 distance to the nearest MRT station'][x]+1)"
   ]
  },
  {
   "cell_type": "code",
   "execution_count": 23,
   "metadata": {},
   "outputs": [],
   "source": [
    "# Create a StandardScaler object\n",
    "scaler = StandardScaler()\n",
    "\n",
    "# Fit the scaler to the training data and transform both the training and test sets\n",
    "X_train_scaled = scaler.fit_transform(X_train)\n",
    "X_test_scaled = scaler.transform(X_test)\n",
    "\n",
    "# Apply the transformation to the 'X3 distance to the nearest MRT station' column\n",
    "X_train_scaled[:, 1] = np.log(X_train_scaled[:, 1] + 1)\n",
    "X_test_scaled[:, 1] = np.log(X_test_scaled[:, 1] + 1)"
   ]
  },
  {
   "cell_type": "code",
   "execution_count": 24,
   "metadata": {},
   "outputs": [
    {
     "data": {
      "image/png": "[encoded data removed]",
      "text/plain": [
       "<Figure size 640x480 with 1 Axes>"
      ]
     },
     "metadata": {},
     "output_type": "display_data"
    }
   ],
   "source": [
    "# Calculate the number of bins using Sturges' Rule\n",
    "num_bins = int(1 + np.log2(len(df['X3 distance to the nearest MRT station'])))\n",
    "\n",
    "# Plot the histogram with the calculated number of bins\n",
    "plt.hist(df['X3 distance to the nearest MRT station'], bins=num_bins)\n",
    "\n",
    "# Add labels and title to the plot\n",
    "plt.xlabel('Data')\n",
    "plt.ylabel('Frequency')\n",
    "plt.title('Histogram with {} bins'.format(num_bins))\n",
    "\n",
    "# Display the plot\n",
    "plt.show()"
   ]
  },
  {
   "cell_type": "markdown",
   "metadata": {},
   "source": [
    "#### c) Modelltraining mit der transformierten Spalte"
   ]
  },
  {
   "cell_type": "markdown",
   "metadata": {},
   "source": [
    "Trainieren Sie das Lineare Regressionsmodell und den DecisionTreeRegressor aus den Aufgaben 1 und 3 erneut auf dem transformierten Datensatz. Vergleichen Sie anschließend die Bestimmtheitmaße auf den Trainings- und Testdatensätzen mit den Werten, die Sie in Aufgabe 1 und 3 erhalten hatten. Erklären Sie Ihre Beobachtung."
   ]
  },
  {
   "cell_type": "markdown",
   "metadata": {},
   "source": [
    "I'm running the GridSearchCV again, so that it utilizes the transformed X_train and X_test. That didn't really change anything, but what I did find, was that because it HAD TO choose a min_samples_leaf, it was limited to WORSE results, than when not taking min_samples_leaf into account. Now that it doesn't, it is able to reach the desired score of 74+ "
   ]
  },
  {
   "cell_type": "code",
   "execution_count": 27,
   "metadata": {},
   "outputs": [
    {
     "name": "stdout",
     "output_type": "stream",
     "text": [
      "Best parameters: {'max_depth': 4}\n",
      "R^2 score: 0.7452362258387062\n",
      "###################################################################################\n",
      "Parameters: {'max_depth': 1}\n",
      "Mean R^2 score: 0.4430087917125558\n",
      "Parameters: {'max_depth': 2}\n",
      "Mean R^2 score: 0.5475774443743813\n",
      "Parameters: {'max_depth': 3}\n",
      "Mean R^2 score: 0.5889920382748743\n",
      "Parameters: {'max_depth': 4}\n",
      "Mean R^2 score: 0.6041466948283991\n",
      "Parameters: {'max_depth': 5}\n",
      "Mean R^2 score: 0.5915756214021405\n"
     ]
    }
   ],
   "source": [
    "# Define the parameter grid\n",
    "param_grid = {'max_depth': [1, 2, 3, 4, 5]}\n",
    "#'min_samples_leaf': [5, 10, 20, 30]\n",
    "# Create a decision tree regressor object\n",
    "dt_reg = DecisionTreeRegressor(random_state=42)\n",
    "\n",
    "# Create a GridSearchCV object\n",
    "#cv = cross validate (how often)\n",
    "grid_search = GridSearchCV(estimator=dt_reg, param_grid=param_grid, cv=10, scoring='r2')\n",
    "\n",
    "# Fit the GridSearchCV object to the data\n",
    "grid_search.fit(X_train_scaled, y_train)\n",
    "\n",
    "# Get the best parameter combination\n",
    "best_params = grid_search.best_params_\n",
    "\n",
    "# Get the best model\n",
    "best_model = grid_search.best_estimator_\n",
    "\n",
    "# Predict on the test set using the best model\n",
    "y_pred = best_model.predict(X_test_scaled)\n",
    "\n",
    "# Calculate the R^2 score on the test set\n",
    "r2 = r2_score(y_test, y_pred)\n",
    "\n",
    "# Print the best parameter combination and the R^2 score\n",
    "print(\"Best parameters:\", best_params)\n",
    "print(\"R^2 score:\", r2)\n",
    "print(\"###################################################################################\")\n",
    "###################################################################################\n",
    "#The best model is done now. We just wanna get some interesting stats here\n",
    "\n",
    "# Get the mean cross-validated scores for each parameter combination\n",
    "cv_results = grid_search.cv_results_\n",
    "for mean_score, params in zip(cv_results['mean_test_score'], cv_results['params']):\n",
    "    print(\"Parameters:\", params)\n",
    "    print(\"Mean R^2 score:\", mean_score)\n"
   ]
  },
  {
   "cell_type": "markdown",
   "metadata": {},
   "source": [
    "Nach Scaling mit Linearer Regression"
   ]
  },
  {
   "cell_type": "code",
   "execution_count": 28,
   "metadata": {},
   "outputs": [
    {
     "name": "stdout",
     "output_type": "stream",
     "text": [
      "Mean squared error: 67.00030951147907\n",
      "score train: 0.4783858264148817\n",
      "score test: 0.6006174800570723\n"
     ]
    }
   ],
   "source": [
    "# Fit a linear regression model on the training data\n",
    "reg = LinearRegression().fit(X_train_scaled, y_train)\n",
    "scaler = StandardScaler()\n",
    "X_train_scaled = scaler.fit_transform(X_train_scaled)\n",
    "X_test_scaled = scaler.transform(X_test_scaled)\n",
    "\n",
    "\n",
    "\n",
    "# Make predictions on the test data\n",
    "y_pred = reg.predict(X_test_scaled)\n",
    "\n",
    "# Print the mean squared error and R-squared score of the model\n",
    "print('Mean squared error:', mean_squared_error(y_test, y_pred))\n",
    "print('score train:', reg.score(X_train_scaled, y_train))\n",
    "print('score test:', reg.score(X_test_scaled, y_test))"
   ]
  },
  {
   "cell_type": "markdown",
   "metadata": {},
   "source": [
    "Nach Scaling mit RegressionTree"
   ]
  },
  {
   "cell_type": "code",
   "execution_count": 29,
   "metadata": {},
   "outputs": [
    {
     "name": "stdout",
     "output_type": "stream",
     "text": [
      "R2 Score: 0.7458303711935472\n"
     ]
    }
   ],
   "source": [
    "# initialize the DecisionTreeRegressor model with some hyperparameters\n",
    "tree_reg = DecisionTreeRegressor(max_depth=5 , random_state=42)\n",
    "\n",
    "# fit the model to the training data\n",
    "tree_reg.fit(X_train_scaled, y_train)\n",
    "\n",
    "# make predictions on the testing data\n",
    "y_pred = tree_reg.predict(X_test_scaled)\n",
    "\n",
    "# evaluate the model performance\n",
    "r2 = r2_score(y_test, y_pred)\n",
    "\n",
    "print(f\"R2 Score: {r2}\")"
   ]
  }
 ],
 "metadata": {
  "kernelspec": {
   "display_name": "Python 3 (ipykernel)",
   "language": "python",
   "name": "python3"
  },
  "language_info": {
   "codemirror_mode": {
    "name": "ipython",
    "version": 3
   },
   "file_extension": ".py",
   "mimetype": "text/x-python",
   "name": "python",
   "nbconvert_exporter": "python",
   "pygments_lexer": "ipython3",
   "version": "3.9.11"
  }
 },
 "nbformat": 4,
 "nbformat_minor": 2
}
