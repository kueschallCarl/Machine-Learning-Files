{
 "cells": [
  {
   "cell_type": "code",
   "execution_count": 1,
   "metadata": {
    "scrolled": false
   },
   "outputs": [],
   "source": [
    "import pandas as pd\n",
    "import numpy as np\n",
    "import matplotlib as plt\n",
    "from sklearn.model_selection import train_test_split\n",
    "from sklearn import tree\n",
    "from sklearn.tree import DecisionTreeClassifier\n",
    "from sklearn.preprocessing import StandardScaler\n",
    "import graphviz"
   ]
  },
  {
   "cell_type": "markdown",
   "metadata": {},
   "source": [
    "# Übung 2"
   ]
  },
  {
   "cell_type": "markdown",
   "metadata": {},
   "source": [
    "### Thema: Bewertung des Potenzials von Nachwuchs-Basketballspielern in der NBA unter Einsatz von Entscheidungsbaum-Lernen"
   ]
  },
  {
   "cell_type": "markdown",
   "metadata": {},
   "source": [
    "In dieser Übung soll mit Hilfe von Entscheidungbaum-Lernen ein Modell zur Vorhersage erstellt werden, ob ein NBA-Rookie (Spieler in der ersten Profi-Saison) den Durchbruch in der Profiliga schafft und mindestens 5 Jahre in der NBA spielen wird oder nicht. Der Datensatz enthält Daten der Rookie-Saison von verschiedenen Spielern sowie die Zielvariable, ob diese mindestens fünf Jahre in der NBA gespielt haben (`target=1`) oder nicht (`target=0`)."
   ]
  },
  {
   "cell_type": "markdown",
   "metadata": {},
   "source": [
    "#### Einlesen des NBA-Datensatzes"
   ]
  },
  {
   "cell_type": "code",
   "execution_count": 2,
   "metadata": {},
   "outputs": [],
   "source": [
    "cols = ['name','games_played', 'minutes_played', 'points_per_game','field_goals_made','field_goal_attempts','field_goals_percent', '3point_made','3point_attempts','3point_percent','free_throw_made','free_throw_attempts','free_throw_percent','offensive_rebounds','defensive_rebounds','rebounds' ,'assists','steals','blocks','turnovers','target']"
   ]
  },
  {
   "cell_type": "code",
   "execution_count": 3,
   "metadata": {},
   "outputs": [],
   "source": [
    "df = pd.read_csv('nba.csv',names=cols, skiprows=1)"
   ]
  },
  {
   "cell_type": "code",
   "execution_count": 4,
   "metadata": {},
   "outputs": [
    {
     "data": {
      "text/plain": [
       "name                    0\n",
       "games_played            0\n",
       "minutes_played          0\n",
       "points_per_game         0\n",
       "field_goals_made        0\n",
       "field_goal_attempts     0\n",
       "field_goals_percent     0\n",
       "3point_made             0\n",
       "3point_attempts         0\n",
       "3point_percent         11\n",
       "free_throw_made         0\n",
       "free_throw_attempts     0\n",
       "free_throw_percent      0\n",
       "offensive_rebounds      0\n",
       "defensive_rebounds      0\n",
       "rebounds                0\n",
       "assists                 0\n",
       "steals                  0\n",
       "blocks                  0\n",
       "turnovers               0\n",
       "target                  0\n",
       "dtype: int64"
      ]
     },
     "execution_count": 4,
     "metadata": {},
     "output_type": "execute_result"
    }
   ],
   "source": [
    "df.isnull().sum()"
   ]
  },
  {
   "cell_type": "markdown",
   "metadata": {},
   "source": [
    "#### a) Datenvorbereitung: Imputation"
   ]
  },
  {
   "cell_type": "markdown",
   "metadata": {},
   "source": [
    "Überprüfen Sie den Datensatz auf fehlende Werte. Wenden Sie ggf. eine geeignete Strategie an, um mit diesen zu verfahren. <br>\n",
    "Hinweis: vereinfachend werden hier fehlende Werte auf dem gesamten Datensatz vorab behoben. Streng genommen sollte auf dem Trainingsdatensatz eine Imputing-Strategie gefitted werden, die später auf dem Testdatensatz angewendet wird. "
   ]
  },
  {
   "cell_type": "markdown",
   "metadata": {},
   "source": [
    "Hinweis: Verwenden Sie die DataFrame-Methoden <a href=\"https://pandas.pydata.org/pandas-docs/stable/reference/api/pandas.DataFrame.dropna.html\">pandas.DataFrame.dropna</a> bzw.\n",
    "<a href=\"https://pandas.pydata.org/pandas-docs/stable/reference/api/pandas.DataFrame.fillna.html\">pandas.DataFrame.fillna</a>"
   ]
  },
  {
   "cell_type": "code",
   "execution_count": 5,
   "metadata": {},
   "outputs": [],
   "source": [
    "df.dropna(inplace = True)"
   ]
  },
  {
   "cell_type": "code",
   "execution_count": 6,
   "metadata": {},
   "outputs": [
    {
     "data": {
      "text/plain": [
       "name                   0\n",
       "games_played           0\n",
       "minutes_played         0\n",
       "points_per_game        0\n",
       "field_goals_made       0\n",
       "field_goal_attempts    0\n",
       "field_goals_percent    0\n",
       "3point_made            0\n",
       "3point_attempts        0\n",
       "3point_percent         0\n",
       "free_throw_made        0\n",
       "free_throw_attempts    0\n",
       "free_throw_percent     0\n",
       "offensive_rebounds     0\n",
       "defensive_rebounds     0\n",
       "rebounds               0\n",
       "assists                0\n",
       "steals                 0\n",
       "blocks                 0\n",
       "turnovers              0\n",
       "target                 0\n",
       "dtype: int64"
      ]
     },
     "execution_count": 6,
     "metadata": {},
     "output_type": "execute_result"
    }
   ],
   "source": [
    "df.isnull().sum()"
   ]
  },
  {
   "cell_type": "markdown",
   "metadata": {},
   "source": [
    "#### b) Datenvorbereitung: Entfernung von Duplikaten"
   ]
  },
  {
   "cell_type": "markdown",
   "metadata": {},
   "source": [
    "Überprüfen Sie, der Datensatz Duplikate enthält, bei denen die Werte \"name\" und \"games_played\" jeweils beide übereinstimmen. Falls ja, verwerfen Sie nicht benötigte Zeilen des Datensatzes. Ist das Entfernen von Duplikaten in jeder Situation sinnvoll? Falls nein, warum ist es in dieser Situation sinnvoll?"
   ]
  },
  {
   "cell_type": "markdown",
   "metadata": {},
   "source": [
    "Hinweis: verwenden Sie die DataFrame-Methode <a href=\"https://pandas.pydata.org/pandas-docs/stable/reference/api/pandas.DataFrame.drop_duplicates.html\">DataFrame.drop_duplicates</a>"
   ]
  },
  {
   "cell_type": "code",
   "execution_count": 7,
   "metadata": {},
   "outputs": [],
   "source": [
    "df = df.drop_duplicates(subset=['name', 'games_played'], keep='first')"
   ]
  },
  {
   "cell_type": "markdown",
   "metadata": {},
   "source": [
    "#### c) Train-Test-Split"
   ]
  },
  {
   "cell_type": "markdown",
   "metadata": {},
   "source": [
    "Spalten Sie mit Hilfe der Funktion <a href=\"https://scikit-learn.org/stable/modules/generated/sklearn.model_selection.train_test_split.html\">train_test_split</a> die Zielvariable vom Datensatz ab und teilen Sie die Daten in eine Trainingsdatenmenge und eine Testdatenmenge auf (70% Trainingsdaten, 30% Testdaten). Setzen Sie `random_state=42`, um die Ergebnisse besser mit Kommilitonen vergleichen zu können."
   ]
  },
  {
   "cell_type": "code",
   "execution_count": 8,
   "metadata": {},
   "outputs": [
    {
     "data": {
      "text/plain": [
       "0       0.0\n",
       "1       0.0\n",
       "2       0.0\n",
       "3       1.0\n",
       "4       1.0\n",
       "       ... \n",
       "1334    0.0\n",
       "1336    1.0\n",
       "1337    0.0\n",
       "1338    1.0\n",
       "1339    1.0\n",
       "Name: target, Length: 1298, dtype: float64"
      ]
     },
     "execution_count": 8,
     "metadata": {},
     "output_type": "execute_result"
    }
   ],
   "source": [
    "df['target']"
   ]
  },
  {
   "cell_type": "code",
   "execution_count": 9,
   "metadata": {
    "scrolled": true
   },
   "outputs": [],
   "source": [
    "y = df['target']\n",
    "X = df.drop(['target'], axis=1)\n",
    "X = X.reset_index(drop=True)"
   ]
  },
  {
   "cell_type": "code",
   "execution_count": 10,
   "metadata": {},
   "outputs": [],
   "source": [
    "X_train, X_test, y_train, y_test = train_test_split(X, y, test_size=0.3, random_state = 42)"
   ]
  },
  {
   "cell_type": "markdown",
   "metadata": {},
   "source": [
    "#### d) Training eines (naiven) DecisionTrees"
   ]
  },
  {
   "cell_type": "markdown",
   "metadata": {},
   "source": [
    "Machen Sie sich anhand der Doku mit der Klasse <a href=\"https://scikit-learn.org/stable/modules/generated/sklearn.tree.DecisionTreeClassifier.html\">DecisionTreeClassifier</a> in scikit-learn vertraut. <br>\n",
    "- Welche Parameter können eingestellt werden? \n",
    "- Welcher Algorithmus für Entscheidungsbaum-Lernen ist in scikit-learn implementiert?\n",
    "- Worin unterscheidet sich dieser von dem in der Vorlesung besprochenen Algorithmus?"
   ]
  },
  {
   "cell_type": "markdown",
   "metadata": {},
   "source": [
    "Trainieren Sie nun mit den Default-Einstellungen einen Entscheidungsbaum und werten Sie die Korrektklassifikationsrate durch den Aufruf der Methode `score` auf dem Trainings- und auf dem Testdatensatz aus. Wie interpretieren Sie das Ergebnis?"
   ]
  },
  {
   "cell_type": "code",
   "execution_count": 11,
   "metadata": {},
   "outputs": [
    {
     "data": {
      "text/plain": [
       "632     1.0\n",
       "865     0.0\n",
       "962     0.0\n",
       "587     0.0\n",
       "441     1.0\n",
       "       ... \n",
       "1135    1.0\n",
       "1170    1.0\n",
       "1336    1.0\n",
       "898     0.0\n",
       "1166    0.0\n",
       "Name: target, Length: 908, dtype: float64"
      ]
     },
     "execution_count": 11,
     "metadata": {},
     "output_type": "execute_result"
    }
   ],
   "source": [
    "y_train"
   ]
  },
  {
   "cell_type": "code",
   "execution_count": 12,
   "metadata": {},
   "outputs": [],
   "source": [
    "df_names = X_test['name']\n",
    "X_train = X_train.drop(['name'], axis =1)\n",
    "X_test = X_test.drop(['name'], axis =1)"
   ]
  },
  {
   "cell_type": "code",
   "execution_count": 13,
   "metadata": {},
   "outputs": [
    {
     "data": {
      "text/plain": [
       "908"
      ]
     },
     "execution_count": 13,
     "metadata": {},
     "output_type": "execute_result"
    }
   ],
   "source": [
    "y_train.count()"
   ]
  },
  {
   "cell_type": "code",
   "execution_count": 14,
   "metadata": {},
   "outputs": [
    {
     "data": {
      "text/html": [
       "<style>#sk-container-id-1 {color: black;background-color: white;}#sk-container-id-1 pre{padding: 0;}#sk-container-id-1 div.sk-toggleable {background-color: white;}#sk-container-id-1 label.sk-toggleable__label {cursor: pointer;display: block;width: 100%;margin-bottom: 0;padding: 0.3em;box-sizing: border-box;text-align: center;}#sk-container-id-1 label.sk-toggleable__label-arrow:before {content: \"▸\";float: left;margin-right: 0.25em;color: #696969;}#sk-container-id-1 label.sk-toggleable__label-arrow:hover:before {color: black;}#sk-container-id-1 div.sk-estimator:hover label.sk-toggleable__label-arrow:before {color: black;}#sk-container-id-1 div.sk-toggleable__content {max-height: 0;max-width: 0;overflow: hidden;text-align: left;background-color: #f0f8ff;}#sk-container-id-1 div.sk-toggleable__content pre {margin: 0.2em;color: black;border-radius: 0.25em;background-color: #f0f8ff;}#sk-container-id-1 input.sk-toggleable__control:checked~div.sk-toggleable__content {max-height: 200px;max-width: 100%;overflow: auto;}#sk-container-id-1 input.sk-toggleable__control:checked~label.sk-toggleable__label-arrow:before {content: \"▾\";}#sk-container-id-1 div.sk-estimator input.sk-toggleable__control:checked~label.sk-toggleable__label {background-color: #d4ebff;}#sk-container-id-1 div.sk-label input.sk-toggleable__control:checked~label.sk-toggleable__label {background-color: #d4ebff;}#sk-container-id-1 input.sk-hidden--visually {border: 0;clip: rect(1px 1px 1px 1px);clip: rect(1px, 1px, 1px, 1px);height: 1px;margin: -1px;overflow: hidden;padding: 0;position: absolute;width: 1px;}#sk-container-id-1 div.sk-estimator {font-family: monospace;background-color: #f0f8ff;border: 1px dotted black;border-radius: 0.25em;box-sizing: border-box;margin-bottom: 0.5em;}#sk-container-id-1 div.sk-estimator:hover {background-color: #d4ebff;}#sk-container-id-1 div.sk-parallel-item::after {content: \"\";width: 100%;border-bottom: 1px solid gray;flex-grow: 1;}#sk-container-id-1 div.sk-label:hover label.sk-toggleable__label {background-color: #d4ebff;}#sk-container-id-1 div.sk-serial::before {content: \"\";position: absolute;border-left: 1px solid gray;box-sizing: border-box;top: 0;bottom: 0;left: 50%;z-index: 0;}#sk-container-id-1 div.sk-serial {display: flex;flex-direction: column;align-items: center;background-color: white;padding-right: 0.2em;padding-left: 0.2em;position: relative;}#sk-container-id-1 div.sk-item {position: relative;z-index: 1;}#sk-container-id-1 div.sk-parallel {display: flex;align-items: stretch;justify-content: center;background-color: white;position: relative;}#sk-container-id-1 div.sk-item::before, #sk-container-id-1 div.sk-parallel-item::before {content: \"\";position: absolute;border-left: 1px solid gray;box-sizing: border-box;top: 0;bottom: 0;left: 50%;z-index: -1;}#sk-container-id-1 div.sk-parallel-item {display: flex;flex-direction: column;z-index: 1;position: relative;background-color: white;}#sk-container-id-1 div.sk-parallel-item:first-child::after {align-self: flex-end;width: 50%;}#sk-container-id-1 div.sk-parallel-item:last-child::after {align-self: flex-start;width: 50%;}#sk-container-id-1 div.sk-parallel-item:only-child::after {width: 0;}#sk-container-id-1 div.sk-dashed-wrapped {border: 1px dashed gray;margin: 0 0.4em 0.5em 0.4em;box-sizing: border-box;padding-bottom: 0.4em;background-color: white;}#sk-container-id-1 div.sk-label label {font-family: monospace;font-weight: bold;display: inline-block;line-height: 1.2em;}#sk-container-id-1 div.sk-label-container {text-align: center;}#sk-container-id-1 div.sk-container {/* jupyter's `normalize.less` sets `[hidden] { display: none; }` but bootstrap.min.css set `[hidden] { display: none !important; }` so we also need the `!important` here to be able to override the default hidden behavior on the sphinx rendered scikit-learn.org. See: https://github.com/scikit-learn/scikit-learn/issues/21755 */display: inline-block !important;position: relative;}#sk-container-id-1 div.sk-text-repr-fallback {display: none;}</style><div id=\"sk-container-id-1\" class=\"sk-top-container\"><div class=\"sk-text-repr-fallback\"><pre>DecisionTreeClassifier()</pre><b>In a Jupyter environment, please rerun this cell to show the HTML representation or trust the notebook. <br />On GitHub, the HTML representation is unable to render, please try loading this page with nbviewer.org.</b></div><div class=\"sk-container\" hidden><div class=\"sk-item\"><div class=\"sk-estimator sk-toggleable\"><input class=\"sk-toggleable__control sk-hidden--visually\" id=\"sk-estimator-id-1\" type=\"checkbox\" checked><label for=\"sk-estimator-id-1\" class=\"sk-toggleable__label sk-toggleable__label-arrow\">DecisionTreeClassifier</label><div class=\"sk-toggleable__content\"><pre>DecisionTreeClassifier()</pre></div></div></div></div></div>"
      ],
      "text/plain": [
       "DecisionTreeClassifier()"
      ]
     },
     "execution_count": 14,
     "metadata": {},
     "output_type": "execute_result"
    }
   ],
   "source": [
    "\n",
    "\n",
    "clf = tree.DecisionTreeClassifier()\n",
    "clf.fit(X_train,y_train)"
   ]
  },
  {
   "cell_type": "code",
   "execution_count": 15,
   "metadata": {},
   "outputs": [
    {
     "data": {
      "text/plain": [
       "0.6153846153846154"
      ]
     },
     "execution_count": 15,
     "metadata": {},
     "output_type": "execute_result"
    }
   ],
   "source": [
    "clf.score(X_test, y_test)"
   ]
  },
  {
   "cell_type": "markdown",
   "metadata": {},
   "source": [
    "#### e) DecisionTree - Pruning"
   ]
  },
  {
   "cell_type": "markdown",
   "metadata": {},
   "source": [
    "Wiederholen Sie Teilaufgabe d) unter Verwendung des Parameters `max_depth=3` und vergleichen Sie die Ergebnisse."
   ]
  },
  {
   "cell_type": "code",
   "execution_count": 16,
   "metadata": {},
   "outputs": [
    {
     "data": {
      "text/html": [
       "<style>#sk-container-id-2 {color: black;background-color: white;}#sk-container-id-2 pre{padding: 0;}#sk-container-id-2 div.sk-toggleable {background-color: white;}#sk-container-id-2 label.sk-toggleable__label {cursor: pointer;display: block;width: 100%;margin-bottom: 0;padding: 0.3em;box-sizing: border-box;text-align: center;}#sk-container-id-2 label.sk-toggleable__label-arrow:before {content: \"▸\";float: left;margin-right: 0.25em;color: #696969;}#sk-container-id-2 label.sk-toggleable__label-arrow:hover:before {color: black;}#sk-container-id-2 div.sk-estimator:hover label.sk-toggleable__label-arrow:before {color: black;}#sk-container-id-2 div.sk-toggleable__content {max-height: 0;max-width: 0;overflow: hidden;text-align: left;background-color: #f0f8ff;}#sk-container-id-2 div.sk-toggleable__content pre {margin: 0.2em;color: black;border-radius: 0.25em;background-color: #f0f8ff;}#sk-container-id-2 input.sk-toggleable__control:checked~div.sk-toggleable__content {max-height: 200px;max-width: 100%;overflow: auto;}#sk-container-id-2 input.sk-toggleable__control:checked~label.sk-toggleable__label-arrow:before {content: \"▾\";}#sk-container-id-2 div.sk-estimator input.sk-toggleable__control:checked~label.sk-toggleable__label {background-color: #d4ebff;}#sk-container-id-2 div.sk-label input.sk-toggleable__control:checked~label.sk-toggleable__label {background-color: #d4ebff;}#sk-container-id-2 input.sk-hidden--visually {border: 0;clip: rect(1px 1px 1px 1px);clip: rect(1px, 1px, 1px, 1px);height: 1px;margin: -1px;overflow: hidden;padding: 0;position: absolute;width: 1px;}#sk-container-id-2 div.sk-estimator {font-family: monospace;background-color: #f0f8ff;border: 1px dotted black;border-radius: 0.25em;box-sizing: border-box;margin-bottom: 0.5em;}#sk-container-id-2 div.sk-estimator:hover {background-color: #d4ebff;}#sk-container-id-2 div.sk-parallel-item::after {content: \"\";width: 100%;border-bottom: 1px solid gray;flex-grow: 1;}#sk-container-id-2 div.sk-label:hover label.sk-toggleable__label {background-color: #d4ebff;}#sk-container-id-2 div.sk-serial::before {content: \"\";position: absolute;border-left: 1px solid gray;box-sizing: border-box;top: 0;bottom: 0;left: 50%;z-index: 0;}#sk-container-id-2 div.sk-serial {display: flex;flex-direction: column;align-items: center;background-color: white;padding-right: 0.2em;padding-left: 0.2em;position: relative;}#sk-container-id-2 div.sk-item {position: relative;z-index: 1;}#sk-container-id-2 div.sk-parallel {display: flex;align-items: stretch;justify-content: center;background-color: white;position: relative;}#sk-container-id-2 div.sk-item::before, #sk-container-id-2 div.sk-parallel-item::before {content: \"\";position: absolute;border-left: 1px solid gray;box-sizing: border-box;top: 0;bottom: 0;left: 50%;z-index: -1;}#sk-container-id-2 div.sk-parallel-item {display: flex;flex-direction: column;z-index: 1;position: relative;background-color: white;}#sk-container-id-2 div.sk-parallel-item:first-child::after {align-self: flex-end;width: 50%;}#sk-container-id-2 div.sk-parallel-item:last-child::after {align-self: flex-start;width: 50%;}#sk-container-id-2 div.sk-parallel-item:only-child::after {width: 0;}#sk-container-id-2 div.sk-dashed-wrapped {border: 1px dashed gray;margin: 0 0.4em 0.5em 0.4em;box-sizing: border-box;padding-bottom: 0.4em;background-color: white;}#sk-container-id-2 div.sk-label label {font-family: monospace;font-weight: bold;display: inline-block;line-height: 1.2em;}#sk-container-id-2 div.sk-label-container {text-align: center;}#sk-container-id-2 div.sk-container {/* jupyter's `normalize.less` sets `[hidden] { display: none; }` but bootstrap.min.css set `[hidden] { display: none !important; }` so we also need the `!important` here to be able to override the default hidden behavior on the sphinx rendered scikit-learn.org. See: https://github.com/scikit-learn/scikit-learn/issues/21755 */display: inline-block !important;position: relative;}#sk-container-id-2 div.sk-text-repr-fallback {display: none;}</style><div id=\"sk-container-id-2\" class=\"sk-top-container\"><div class=\"sk-text-repr-fallback\"><pre>DecisionTreeClassifier(max_depth=3)</pre><b>In a Jupyter environment, please rerun this cell to show the HTML representation or trust the notebook. <br />On GitHub, the HTML representation is unable to render, please try loading this page with nbviewer.org.</b></div><div class=\"sk-container\" hidden><div class=\"sk-item\"><div class=\"sk-estimator sk-toggleable\"><input class=\"sk-toggleable__control sk-hidden--visually\" id=\"sk-estimator-id-2\" type=\"checkbox\" checked><label for=\"sk-estimator-id-2\" class=\"sk-toggleable__label sk-toggleable__label-arrow\">DecisionTreeClassifier</label><div class=\"sk-toggleable__content\"><pre>DecisionTreeClassifier(max_depth=3)</pre></div></div></div></div></div>"
      ],
      "text/plain": [
       "DecisionTreeClassifier(max_depth=3)"
      ]
     },
     "execution_count": 16,
     "metadata": {},
     "output_type": "execute_result"
    }
   ],
   "source": [
    "clf = tree.DecisionTreeClassifier(max_depth = 3)\n",
    "clf.fit(X_train,y_train)"
   ]
  },
  {
   "cell_type": "code",
   "execution_count": 17,
   "metadata": {},
   "outputs": [
    {
     "data": {
      "text/plain": [
       "0.6641025641025641"
      ]
     },
     "execution_count": 17,
     "metadata": {},
     "output_type": "execute_result"
    }
   ],
   "source": [
    "clf.score(X_test, y_test)"
   ]
  },
  {
   "cell_type": "markdown",
   "metadata": {},
   "source": [
    "#### f) Visualisierung des DecisionTrees"
   ]
  },
  {
   "cell_type": "markdown",
   "metadata": {},
   "source": [
    "Mit dem Paket `graphviz` können DecisionTrees visualisiert werden. Installieren Sie, falls notwendig, das Paket, und visualisieren Sie anschließend den DecisionTree aus Teilaufgabe e), indem Sie wie <a href=\"https://scikit-learn.org/stable/modules/tree.html\">hier</a> vorgehen."
   ]
  },
  {
   "cell_type": "code",
   "execution_count": 18,
   "metadata": {},
   "outputs": [
    {
     "data": {
      "image/png": "[encoded data removed]",
      "text/plain": [
       "<Figure size 640x480 with 1 Axes>"
      ]
     },
     "metadata": {},
     "output_type": "display_data"
    }
   ],
   "source": [
    "tree.plot_tree(clf, filled = True);"
   ]
  },
  {
   "cell_type": "markdown",
   "metadata": {},
   "source": [
    "#### g) Skalierung der Daten beim DecisionTree"
   ]
  },
  {
   "cell_type": "markdown",
   "metadata": {},
   "source": [
    "Welchen Einfluss hat eine Reskalierung der Daten beim DecisionTree? Überprüfen Sie Ihre Antwort, indem Sie eine Standardisierung mit Hilfe eines <a href=\"https://scikit-learn.org/stable/modules/generated/sklearn.preprocessing.StandardScaler.html\">StandardScalers</a> durchführen und das Modell aus Teilaufgabe e) erneut trainieren und auswerten."
   ]
  },
  {
   "cell_type": "code",
   "execution_count": 19,
   "metadata": {
    "scrolled": true
   },
   "outputs": [
    {
     "data": {
      "text/html": [
       "<style>#sk-container-id-3 {color: black;background-color: white;}#sk-container-id-3 pre{padding: 0;}#sk-container-id-3 div.sk-toggleable {background-color: white;}#sk-container-id-3 label.sk-toggleable__label {cursor: pointer;display: block;width: 100%;margin-bottom: 0;padding: 0.3em;box-sizing: border-box;text-align: center;}#sk-container-id-3 label.sk-toggleable__label-arrow:before {content: \"▸\";float: left;margin-right: 0.25em;color: #696969;}#sk-container-id-3 label.sk-toggleable__label-arrow:hover:before {color: black;}#sk-container-id-3 div.sk-estimator:hover label.sk-toggleable__label-arrow:before {color: black;}#sk-container-id-3 div.sk-toggleable__content {max-height: 0;max-width: 0;overflow: hidden;text-align: left;background-color: #f0f8ff;}#sk-container-id-3 div.sk-toggleable__content pre {margin: 0.2em;color: black;border-radius: 0.25em;background-color: #f0f8ff;}#sk-container-id-3 input.sk-toggleable__control:checked~div.sk-toggleable__content {max-height: 200px;max-width: 100%;overflow: auto;}#sk-container-id-3 input.sk-toggleable__control:checked~label.sk-toggleable__label-arrow:before {content: \"▾\";}#sk-container-id-3 div.sk-estimator input.sk-toggleable__control:checked~label.sk-toggleable__label {background-color: #d4ebff;}#sk-container-id-3 div.sk-label input.sk-toggleable__control:checked~label.sk-toggleable__label {background-color: #d4ebff;}#sk-container-id-3 input.sk-hidden--visually {border: 0;clip: rect(1px 1px 1px 1px);clip: rect(1px, 1px, 1px, 1px);height: 1px;margin: -1px;overflow: hidden;padding: 0;position: absolute;width: 1px;}#sk-container-id-3 div.sk-estimator {font-family: monospace;background-color: #f0f8ff;border: 1px dotted black;border-radius: 0.25em;box-sizing: border-box;margin-bottom: 0.5em;}#sk-container-id-3 div.sk-estimator:hover {background-color: #d4ebff;}#sk-container-id-3 div.sk-parallel-item::after {content: \"\";width: 100%;border-bottom: 1px solid gray;flex-grow: 1;}#sk-container-id-3 div.sk-label:hover label.sk-toggleable__label {background-color: #d4ebff;}#sk-container-id-3 div.sk-serial::before {content: \"\";position: absolute;border-left: 1px solid gray;box-sizing: border-box;top: 0;bottom: 0;left: 50%;z-index: 0;}#sk-container-id-3 div.sk-serial {display: flex;flex-direction: column;align-items: center;background-color: white;padding-right: 0.2em;padding-left: 0.2em;position: relative;}#sk-container-id-3 div.sk-item {position: relative;z-index: 1;}#sk-container-id-3 div.sk-parallel {display: flex;align-items: stretch;justify-content: center;background-color: white;position: relative;}#sk-container-id-3 div.sk-item::before, #sk-container-id-3 div.sk-parallel-item::before {content: \"\";position: absolute;border-left: 1px solid gray;box-sizing: border-box;top: 0;bottom: 0;left: 50%;z-index: -1;}#sk-container-id-3 div.sk-parallel-item {display: flex;flex-direction: column;z-index: 1;position: relative;background-color: white;}#sk-container-id-3 div.sk-parallel-item:first-child::after {align-self: flex-end;width: 50%;}#sk-container-id-3 div.sk-parallel-item:last-child::after {align-self: flex-start;width: 50%;}#sk-container-id-3 div.sk-parallel-item:only-child::after {width: 0;}#sk-container-id-3 div.sk-dashed-wrapped {border: 1px dashed gray;margin: 0 0.4em 0.5em 0.4em;box-sizing: border-box;padding-bottom: 0.4em;background-color: white;}#sk-container-id-3 div.sk-label label {font-family: monospace;font-weight: bold;display: inline-block;line-height: 1.2em;}#sk-container-id-3 div.sk-label-container {text-align: center;}#sk-container-id-3 div.sk-container {/* jupyter's `normalize.less` sets `[hidden] { display: none; }` but bootstrap.min.css set `[hidden] { display: none !important; }` so we also need the `!important` here to be able to override the default hidden behavior on the sphinx rendered scikit-learn.org. See: https://github.com/scikit-learn/scikit-learn/issues/21755 */display: inline-block !important;position: relative;}#sk-container-id-3 div.sk-text-repr-fallback {display: none;}</style><div id=\"sk-container-id-3\" class=\"sk-top-container\"><div class=\"sk-text-repr-fallback\"><pre>StandardScaler()</pre><b>In a Jupyter environment, please rerun this cell to show the HTML representation or trust the notebook. <br />On GitHub, the HTML representation is unable to render, please try loading this page with nbviewer.org.</b></div><div class=\"sk-container\" hidden><div class=\"sk-item\"><div class=\"sk-estimator sk-toggleable\"><input class=\"sk-toggleable__control sk-hidden--visually\" id=\"sk-estimator-id-3\" type=\"checkbox\" checked><label for=\"sk-estimator-id-3\" class=\"sk-toggleable__label sk-toggleable__label-arrow\">StandardScaler</label><div class=\"sk-toggleable__content\"><pre>StandardScaler()</pre></div></div></div></div></div>"
      ],
      "text/plain": [
       "StandardScaler()"
      ]
     },
     "execution_count": 19,
     "metadata": {},
     "output_type": "execute_result"
    }
   ],
   "source": [
    "scaler = StandardScaler()\n",
    "scaler.fit(X_train)\n",
    "scaler.fit(X_test)"
   ]
  },
  {
   "cell_type": "code",
   "execution_count": 20,
   "metadata": {},
   "outputs": [
    {
     "data": {
      "text/plain": [
       "array([16.93107892,  7.99236296,  4.28108253,  1.63531458,  3.41084461,\n",
       "        6.33506428,  0.39579114,  1.09525307, 16.79833122,  0.99400521,\n",
       "        1.28801436, 11.30481782,  0.80114645,  1.3704085 ,  2.0909401 ,\n",
       "        1.38696486,  0.37650631,  0.49939766,  0.66803061])"
      ]
     },
     "execution_count": 20,
     "metadata": {},
     "output_type": "execute_result"
    }
   ],
   "source": [
    "scaler.scale_"
   ]
  },
  {
   "cell_type": "code",
   "execution_count": 21,
   "metadata": {},
   "outputs": [
    {
     "data": {
      "text/html": [
       "<style>#sk-container-id-4 {color: black;background-color: white;}#sk-container-id-4 pre{padding: 0;}#sk-container-id-4 div.sk-toggleable {background-color: white;}#sk-container-id-4 label.sk-toggleable__label {cursor: pointer;display: block;width: 100%;margin-bottom: 0;padding: 0.3em;box-sizing: border-box;text-align: center;}#sk-container-id-4 label.sk-toggleable__label-arrow:before {content: \"▸\";float: left;margin-right: 0.25em;color: #696969;}#sk-container-id-4 label.sk-toggleable__label-arrow:hover:before {color: black;}#sk-container-id-4 div.sk-estimator:hover label.sk-toggleable__label-arrow:before {color: black;}#sk-container-id-4 div.sk-toggleable__content {max-height: 0;max-width: 0;overflow: hidden;text-align: left;background-color: #f0f8ff;}#sk-container-id-4 div.sk-toggleable__content pre {margin: 0.2em;color: black;border-radius: 0.25em;background-color: #f0f8ff;}#sk-container-id-4 input.sk-toggleable__control:checked~div.sk-toggleable__content {max-height: 200px;max-width: 100%;overflow: auto;}#sk-container-id-4 input.sk-toggleable__control:checked~label.sk-toggleable__label-arrow:before {content: \"▾\";}#sk-container-id-4 div.sk-estimator input.sk-toggleable__control:checked~label.sk-toggleable__label {background-color: #d4ebff;}#sk-container-id-4 div.sk-label input.sk-toggleable__control:checked~label.sk-toggleable__label {background-color: #d4ebff;}#sk-container-id-4 input.sk-hidden--visually {border: 0;clip: rect(1px 1px 1px 1px);clip: rect(1px, 1px, 1px, 1px);height: 1px;margin: -1px;overflow: hidden;padding: 0;position: absolute;width: 1px;}#sk-container-id-4 div.sk-estimator {font-family: monospace;background-color: #f0f8ff;border: 1px dotted black;border-radius: 0.25em;box-sizing: border-box;margin-bottom: 0.5em;}#sk-container-id-4 div.sk-estimator:hover {background-color: #d4ebff;}#sk-container-id-4 div.sk-parallel-item::after {content: \"\";width: 100%;border-bottom: 1px solid gray;flex-grow: 1;}#sk-container-id-4 div.sk-label:hover label.sk-toggleable__label {background-color: #d4ebff;}#sk-container-id-4 div.sk-serial::before {content: \"\";position: absolute;border-left: 1px solid gray;box-sizing: border-box;top: 0;bottom: 0;left: 50%;z-index: 0;}#sk-container-id-4 div.sk-serial {display: flex;flex-direction: column;align-items: center;background-color: white;padding-right: 0.2em;padding-left: 0.2em;position: relative;}#sk-container-id-4 div.sk-item {position: relative;z-index: 1;}#sk-container-id-4 div.sk-parallel {display: flex;align-items: stretch;justify-content: center;background-color: white;position: relative;}#sk-container-id-4 div.sk-item::before, #sk-container-id-4 div.sk-parallel-item::before {content: \"\";position: absolute;border-left: 1px solid gray;box-sizing: border-box;top: 0;bottom: 0;left: 50%;z-index: -1;}#sk-container-id-4 div.sk-parallel-item {display: flex;flex-direction: column;z-index: 1;position: relative;background-color: white;}#sk-container-id-4 div.sk-parallel-item:first-child::after {align-self: flex-end;width: 50%;}#sk-container-id-4 div.sk-parallel-item:last-child::after {align-self: flex-start;width: 50%;}#sk-container-id-4 div.sk-parallel-item:only-child::after {width: 0;}#sk-container-id-4 div.sk-dashed-wrapped {border: 1px dashed gray;margin: 0 0.4em 0.5em 0.4em;box-sizing: border-box;padding-bottom: 0.4em;background-color: white;}#sk-container-id-4 div.sk-label label {font-family: monospace;font-weight: bold;display: inline-block;line-height: 1.2em;}#sk-container-id-4 div.sk-label-container {text-align: center;}#sk-container-id-4 div.sk-container {/* jupyter's `normalize.less` sets `[hidden] { display: none; }` but bootstrap.min.css set `[hidden] { display: none !important; }` so we also need the `!important` here to be able to override the default hidden behavior on the sphinx rendered scikit-learn.org. See: https://github.com/scikit-learn/scikit-learn/issues/21755 */display: inline-block !important;position: relative;}#sk-container-id-4 div.sk-text-repr-fallback {display: none;}</style><div id=\"sk-container-id-4\" class=\"sk-top-container\"><div class=\"sk-text-repr-fallback\"><pre>DecisionTreeClassifier(max_depth=3)</pre><b>In a Jupyter environment, please rerun this cell to show the HTML representation or trust the notebook. <br />On GitHub, the HTML representation is unable to render, please try loading this page with nbviewer.org.</b></div><div class=\"sk-container\" hidden><div class=\"sk-item\"><div class=\"sk-estimator sk-toggleable\"><input class=\"sk-toggleable__control sk-hidden--visually\" id=\"sk-estimator-id-4\" type=\"checkbox\" checked><label for=\"sk-estimator-id-4\" class=\"sk-toggleable__label sk-toggleable__label-arrow\">DecisionTreeClassifier</label><div class=\"sk-toggleable__content\"><pre>DecisionTreeClassifier(max_depth=3)</pre></div></div></div></div></div>"
      ],
      "text/plain": [
       "DecisionTreeClassifier(max_depth=3)"
      ]
     },
     "execution_count": 21,
     "metadata": {},
     "output_type": "execute_result"
    }
   ],
   "source": [
    "clf = tree.DecisionTreeClassifier(max_depth = 3)\n",
    "clf.fit(X_train, y_train)"
   ]
  },
  {
   "cell_type": "code",
   "execution_count": 22,
   "metadata": {
    "scrolled": true
   },
   "outputs": [
    {
     "data": {
      "text/plain": [
       "0.6615384615384615"
      ]
     },
     "execution_count": 22,
     "metadata": {},
     "output_type": "execute_result"
    }
   ],
   "source": [
    "clf.score(X_test, y_test)"
   ]
  },
  {
   "cell_type": "markdown",
   "metadata": {},
   "source": [
    "genau gleich, weil umskalierung fuer Decision Trees nichts bringt. Es wird ja immer nur ein Attribut unabhaengig von anderen betrachtet. Ob <1 oder <10 spielt keine Rolle."
   ]
  },
  {
   "cell_type": "markdown",
   "metadata": {},
   "source": [
    "#### h) Berechnung des Scores"
   ]
  },
  {
   "cell_type": "markdown",
   "metadata": {},
   "source": [
    "Ermitteln Sie mit Hilfe der Methode `predict_proba` die 50 Spieler aus dem Testdatensatz mit dem höchsten Score. Dieser ergibt sich für jede Instanz durch die relativen Klassenhäufigkeiten im entsprechenden Blatt. Wie hoch ist die Korrektklassifikationsrate auf dieser Teilmenge aus 50 Spielern?"
   ]
  },
  {
   "cell_type": "code",
   "execution_count": 23,
   "metadata": {
    "scrolled": true
   },
   "outputs": [
    {
     "name": "stdout",
     "output_type": "stream",
     "text": [
      "[[0.22742475 0.77257525]\n",
      " [0.22742475 0.77257525]\n",
      " [0.22742475 0.77257525]\n",
      " [0.22742475 0.77257525]\n",
      " [0.22742475 0.77257525]\n",
      " [0.50769231 0.49230769]\n",
      " [0.64444444 0.35555556]\n",
      " [0.22742475 0.77257525]\n",
      " [0.22742475 0.77257525]\n",
      " [0.22742475 0.77257525]\n",
      " [0.50769231 0.49230769]\n",
      " [0.08571429 0.91428571]\n",
      " [0.22742475 0.77257525]\n",
      " [0.71875    0.28125   ]\n",
      " [0.22742475 0.77257525]\n",
      " [0.22742475 0.77257525]\n",
      " [0.71875    0.28125   ]\n",
      " [0.71875    0.28125   ]\n",
      " [0.61904762 0.38095238]\n",
      " [0.50769231 0.49230769]\n",
      " [0.22742475 0.77257525]\n",
      " [0.22742475 0.77257525]\n",
      " [0.08571429 0.91428571]\n",
      " [0.71875    0.28125   ]\n",
      " [0.71875    0.28125   ]\n",
      " [0.22742475 0.77257525]\n",
      " [0.22742475 0.77257525]\n",
      " [0.64444444 0.35555556]\n",
      " [0.71875    0.28125   ]\n",
      " [0.71875    0.28125   ]\n",
      " [0.22742475 0.77257525]\n",
      " [0.22742475 0.77257525]\n",
      " [0.22742475 0.77257525]\n",
      " [0.27160494 0.72839506]\n",
      " [0.61904762 0.38095238]\n",
      " [0.27160494 0.72839506]\n",
      " [0.71875    0.28125   ]\n",
      " [0.08571429 0.91428571]\n",
      " [0.22742475 0.77257525]\n",
      " [0.22742475 0.77257525]\n",
      " [0.71875    0.28125   ]\n",
      " [0.22742475 0.77257525]\n",
      " [0.71875    0.28125   ]\n",
      " [0.27160494 0.72839506]\n",
      " [0.08571429 0.91428571]\n",
      " [0.71875    0.28125   ]\n",
      " [0.08571429 0.91428571]\n",
      " [0.71875    0.28125   ]\n",
      " [0.22742475 0.77257525]\n",
      " [0.71875    0.28125   ]\n",
      " [0.22742475 0.77257525]\n",
      " [0.22742475 0.77257525]\n",
      " [0.08571429 0.91428571]\n",
      " [0.61904762 0.38095238]\n",
      " [0.50769231 0.49230769]\n",
      " [0.22742475 0.77257525]\n",
      " [0.50769231 0.49230769]\n",
      " [0.27160494 0.72839506]\n",
      " [0.71875    0.28125   ]\n",
      " [0.22742475 0.77257525]\n",
      " [0.22742475 0.77257525]\n",
      " [0.71875    0.28125   ]\n",
      " [0.22742475 0.77257525]\n",
      " [0.61904762 0.38095238]\n",
      " [0.22742475 0.77257525]\n",
      " [0.71875    0.28125   ]\n",
      " [0.71875    0.28125   ]\n",
      " [0.71875    0.28125   ]\n",
      " [0.22742475 0.77257525]\n",
      " [0.08571429 0.91428571]\n",
      " [0.22742475 0.77257525]\n",
      " [0.71875    0.28125   ]\n",
      " [0.27160494 0.72839506]\n",
      " [0.50769231 0.49230769]\n",
      " [0.08571429 0.91428571]\n",
      " [0.08571429 0.91428571]\n",
      " [0.64444444 0.35555556]\n",
      " [0.71875    0.28125   ]\n",
      " [0.08571429 0.91428571]\n",
      " [0.71875    0.28125   ]\n",
      " [0.71875    0.28125   ]\n",
      " [0.71875    0.28125   ]\n",
      " [0.22742475 0.77257525]\n",
      " [0.27160494 0.72839506]\n",
      " [0.71875    0.28125   ]\n",
      " [0.27160494 0.72839506]\n",
      " [0.22742475 0.77257525]\n",
      " [0.22742475 0.77257525]\n",
      " [0.27160494 0.72839506]\n",
      " [0.22742475 0.77257525]\n",
      " [0.08571429 0.91428571]\n",
      " [0.22742475 0.77257525]\n",
      " [0.22742475 0.77257525]\n",
      " [0.71875    0.28125   ]\n",
      " [0.61904762 0.38095238]\n",
      " [0.22742475 0.77257525]\n",
      " [0.50769231 0.49230769]\n",
      " [0.71875    0.28125   ]\n",
      " [0.71875    0.28125   ]\n",
      " [0.50769231 0.49230769]\n",
      " [0.27160494 0.72839506]\n",
      " [0.64444444 0.35555556]\n",
      " [0.22742475 0.77257525]\n",
      " [0.22742475 0.77257525]\n",
      " [0.22742475 0.77257525]\n",
      " [0.50769231 0.49230769]\n",
      " [0.22742475 0.77257525]\n",
      " [0.22742475 0.77257525]\n",
      " [0.27160494 0.72839506]\n",
      " [0.71875    0.28125   ]\n",
      " [0.71875    0.28125   ]\n",
      " [0.71875    0.28125   ]\n",
      " [0.71875    0.28125   ]\n",
      " [0.27160494 0.72839506]\n",
      " [0.50769231 0.49230769]\n",
      " [0.71875    0.28125   ]\n",
      " [0.22742475 0.77257525]\n",
      " [0.27160494 0.72839506]\n",
      " [0.08571429 0.91428571]\n",
      " [0.08571429 0.91428571]\n",
      " [0.27160494 0.72839506]\n",
      " [0.71875    0.28125   ]\n",
      " [0.50769231 0.49230769]\n",
      " [0.22742475 0.77257525]\n",
      " [0.61904762 0.38095238]\n",
      " [0.22742475 0.77257525]\n",
      " [0.22742475 0.77257525]\n",
      " [0.22742475 0.77257525]\n",
      " [0.27160494 0.72839506]\n",
      " [0.71875    0.28125   ]\n",
      " [0.50769231 0.49230769]\n",
      " [0.22742475 0.77257525]\n",
      " [0.27160494 0.72839506]\n",
      " [0.27160494 0.72839506]\n",
      " [0.08571429 0.91428571]\n",
      " [0.22742475 0.77257525]\n",
      " [0.71875    0.28125   ]\n",
      " [0.08571429 0.91428571]\n",
      " [0.27160494 0.72839506]\n",
      " [0.64444444 0.35555556]\n",
      " [0.71875    0.28125   ]\n",
      " [0.64444444 0.35555556]\n",
      " [0.22742475 0.77257525]\n",
      " [0.50769231 0.49230769]\n",
      " [0.22742475 0.77257525]\n",
      " [0.22742475 0.77257525]\n",
      " [0.27160494 0.72839506]\n",
      " [0.08571429 0.91428571]\n",
      " [0.22742475 0.77257525]\n",
      " [0.64444444 0.35555556]\n",
      " [0.64444444 0.35555556]\n",
      " [0.22742475 0.77257525]\n",
      " [0.08571429 0.91428571]\n",
      " [0.22742475 0.77257525]\n",
      " [0.64444444 0.35555556]\n",
      " [0.71875    0.28125   ]\n",
      " [0.22742475 0.77257525]\n",
      " [0.22742475 0.77257525]\n",
      " [0.27160494 0.72839506]\n",
      " [0.61904762 0.38095238]\n",
      " [0.08571429 0.91428571]\n",
      " [0.22742475 0.77257525]\n",
      " [0.22742475 0.77257525]\n",
      " [0.22742475 0.77257525]\n",
      " [0.61904762 0.38095238]\n",
      " [0.22742475 0.77257525]\n",
      " [0.71875    0.28125   ]\n",
      " [0.71875    0.28125   ]\n",
      " [0.61904762 0.38095238]\n",
      " [0.16666667 0.83333333]\n",
      " [0.61904762 0.38095238]\n",
      " [0.22742475 0.77257525]\n",
      " [0.71875    0.28125   ]\n",
      " [0.22742475 0.77257525]\n",
      " [0.61904762 0.38095238]\n",
      " [0.22742475 0.77257525]\n",
      " [0.71875    0.28125   ]\n",
      " [0.71875    0.28125   ]\n",
      " [0.22742475 0.77257525]\n",
      " [0.22742475 0.77257525]\n",
      " [0.71875    0.28125   ]\n",
      " [0.22742475 0.77257525]\n",
      " [0.08571429 0.91428571]\n",
      " [0.08571429 0.91428571]\n",
      " [0.22742475 0.77257525]\n",
      " [0.22742475 0.77257525]\n",
      " [0.71875    0.28125   ]\n",
      " [0.22742475 0.77257525]\n",
      " [0.22742475 0.77257525]\n",
      " [0.08571429 0.91428571]\n",
      " [0.71875    0.28125   ]\n",
      " [0.08571429 0.91428571]\n",
      " [0.61904762 0.38095238]\n",
      " [0.08571429 0.91428571]\n",
      " [0.08571429 0.91428571]\n",
      " [0.22742475 0.77257525]\n",
      " [0.08571429 0.91428571]\n",
      " [0.64444444 0.35555556]\n",
      " [0.08571429 0.91428571]\n",
      " [0.08571429 0.91428571]\n",
      " [0.50769231 0.49230769]\n",
      " [0.22742475 0.77257525]\n",
      " [0.22742475 0.77257525]\n",
      " [0.71875    0.28125   ]\n",
      " [0.50769231 0.49230769]\n",
      " [0.50769231 0.49230769]\n",
      " [0.08571429 0.91428571]\n",
      " [0.50769231 0.49230769]\n",
      " [0.61904762 0.38095238]\n",
      " [0.50769231 0.49230769]\n",
      " [0.71875    0.28125   ]\n",
      " [0.71875    0.28125   ]\n",
      " [0.08571429 0.91428571]\n",
      " [0.22742475 0.77257525]\n",
      " [0.22742475 0.77257525]\n",
      " [0.22742475 0.77257525]\n",
      " [0.71875    0.28125   ]\n",
      " [0.08571429 0.91428571]\n",
      " [0.50769231 0.49230769]\n",
      " [0.08571429 0.91428571]\n",
      " [0.27160494 0.72839506]\n",
      " [0.22742475 0.77257525]\n",
      " [0.22742475 0.77257525]\n",
      " [0.22742475 0.77257525]\n",
      " [0.61904762 0.38095238]\n",
      " [0.50769231 0.49230769]\n",
      " [0.71875    0.28125   ]\n",
      " [0.22742475 0.77257525]\n",
      " [0.08571429 0.91428571]\n",
      " [0.64444444 0.35555556]\n",
      " [0.71875    0.28125   ]\n",
      " [0.71875    0.28125   ]\n",
      " [0.22742475 0.77257525]\n",
      " [0.22742475 0.77257525]\n",
      " [0.71875    0.28125   ]\n",
      " [0.08571429 0.91428571]\n",
      " [0.08571429 0.91428571]\n",
      " [0.61904762 0.38095238]\n",
      " [0.08571429 0.91428571]\n",
      " [0.71875    0.28125   ]\n",
      " [0.71875    0.28125   ]\n",
      " [0.50769231 0.49230769]\n",
      " [0.08571429 0.91428571]\n",
      " [0.71875    0.28125   ]\n",
      " [0.71875    0.28125   ]\n",
      " [0.22742475 0.77257525]\n",
      " [0.71875    0.28125   ]\n",
      " [0.22742475 0.77257525]\n",
      " [0.22742475 0.77257525]\n",
      " [0.50769231 0.49230769]\n",
      " [0.22742475 0.77257525]\n",
      " [0.22742475 0.77257525]\n",
      " [0.22742475 0.77257525]\n",
      " [0.71875    0.28125   ]\n",
      " [0.08571429 0.91428571]\n",
      " [0.27160494 0.72839506]\n",
      " [0.08571429 0.91428571]\n",
      " [0.08571429 0.91428571]\n",
      " [0.71875    0.28125   ]\n",
      " [0.50769231 0.49230769]\n",
      " [0.71875    0.28125   ]\n",
      " [0.61904762 0.38095238]\n",
      " [0.22742475 0.77257525]\n",
      " [0.71875    0.28125   ]\n",
      " [0.22742475 0.77257525]\n",
      " [0.61904762 0.38095238]\n",
      " [0.22742475 0.77257525]\n",
      " [0.71875    0.28125   ]\n",
      " [0.71875    0.28125   ]\n",
      " [0.71875    0.28125   ]\n",
      " [0.22742475 0.77257525]\n",
      " [0.61904762 0.38095238]\n",
      " [0.22742475 0.77257525]\n",
      " [0.22742475 0.77257525]\n",
      " [0.22742475 0.77257525]\n",
      " [0.22742475 0.77257525]\n",
      " [0.27160494 0.72839506]\n",
      " [0.50769231 0.49230769]\n",
      " [0.22742475 0.77257525]\n",
      " [0.71875    0.28125   ]\n",
      " [0.22742475 0.77257525]\n",
      " [0.71875    0.28125   ]\n",
      " [0.22742475 0.77257525]\n",
      " [0.27160494 0.72839506]\n",
      " [0.27160494 0.72839506]\n",
      " [0.08571429 0.91428571]\n",
      " [0.27160494 0.72839506]\n",
      " [0.71875    0.28125   ]\n",
      " [0.08571429 0.91428571]\n",
      " [0.22742475 0.77257525]\n",
      " [0.22742475 0.77257525]\n",
      " [0.22742475 0.77257525]\n",
      " [0.22742475 0.77257525]\n",
      " [0.71875    0.28125   ]\n",
      " [0.08571429 0.91428571]\n",
      " [0.08571429 0.91428571]\n",
      " [0.71875    0.28125   ]\n",
      " [0.27160494 0.72839506]\n",
      " [0.27160494 0.72839506]\n",
      " [0.71875    0.28125   ]\n",
      " [0.71875    0.28125   ]\n",
      " [0.71875    0.28125   ]\n",
      " [0.22742475 0.77257525]\n",
      " [0.50769231 0.49230769]\n",
      " [0.08571429 0.91428571]\n",
      " [0.71875    0.28125   ]\n",
      " [0.08571429 0.91428571]\n",
      " [0.08571429 0.91428571]\n",
      " [0.61904762 0.38095238]\n",
      " [0.08571429 0.91428571]\n",
      " [0.22742475 0.77257525]\n",
      " [0.71875    0.28125   ]\n",
      " [0.50769231 0.49230769]\n",
      " [0.22742475 0.77257525]\n",
      " [0.27160494 0.72839506]\n",
      " [0.71875    0.28125   ]\n",
      " [0.71875    0.28125   ]\n",
      " [0.71875    0.28125   ]\n",
      " [0.22742475 0.77257525]\n",
      " [0.22742475 0.77257525]\n",
      " [0.08571429 0.91428571]\n",
      " [0.08571429 0.91428571]\n",
      " [0.71875    0.28125   ]\n",
      " [0.22742475 0.77257525]\n",
      " [0.22742475 0.77257525]\n",
      " [0.08571429 0.91428571]\n",
      " [0.08571429 0.91428571]\n",
      " [0.22742475 0.77257525]\n",
      " [0.71875    0.28125   ]\n",
      " [0.50769231 0.49230769]\n",
      " [0.71875    0.28125   ]\n",
      " [0.71875    0.28125   ]\n",
      " [0.71875    0.28125   ]\n",
      " [0.08571429 0.91428571]\n",
      " [0.71875    0.28125   ]\n",
      " [0.22742475 0.77257525]\n",
      " [0.22742475 0.77257525]\n",
      " [0.08571429 0.91428571]\n",
      " [0.22742475 0.77257525]\n",
      " [0.08571429 0.91428571]\n",
      " [0.64444444 0.35555556]\n",
      " [0.27160494 0.72839506]\n",
      " [0.71875    0.28125   ]\n",
      " [0.50769231 0.49230769]\n",
      " [0.22742475 0.77257525]\n",
      " [0.22742475 0.77257525]\n",
      " [0.08571429 0.91428571]\n",
      " [0.50769231 0.49230769]\n",
      " [0.27160494 0.72839506]\n",
      " [0.22742475 0.77257525]\n",
      " [0.71875    0.28125   ]\n",
      " [0.22742475 0.77257525]\n",
      " [0.22742475 0.77257525]\n",
      " [0.22742475 0.77257525]\n",
      " [0.61904762 0.38095238]\n",
      " [0.08571429 0.91428571]\n",
      " [0.71875    0.28125   ]\n",
      " [0.22742475 0.77257525]\n",
      " [0.22742475 0.77257525]\n",
      " [0.22742475 0.77257525]\n",
      " [0.22742475 0.77257525]\n",
      " [0.71875    0.28125   ]\n",
      " [0.22742475 0.77257525]\n",
      " [0.22742475 0.77257525]\n",
      " [0.22742475 0.77257525]\n",
      " [0.61904762 0.38095238]\n",
      " [0.27160494 0.72839506]\n",
      " [0.22742475 0.77257525]\n",
      " [0.71875    0.28125   ]\n",
      " [0.22742475 0.77257525]\n",
      " [0.71875    0.28125   ]\n",
      " [0.22742475 0.77257525]\n",
      " [0.22742475 0.77257525]\n",
      " [0.08571429 0.91428571]\n",
      " [0.71875    0.28125   ]\n",
      " [0.27160494 0.72839506]\n",
      " [0.61904762 0.38095238]\n",
      " [0.22742475 0.77257525]\n",
      " [0.22742475 0.77257525]\n",
      " [0.71875    0.28125   ]\n",
      " [0.71875    0.28125   ]\n",
      " [0.71875    0.28125   ]\n",
      " [0.71875    0.28125   ]\n",
      " [0.50769231 0.49230769]\n",
      " [0.71875    0.28125   ]\n",
      " [0.22742475 0.77257525]\n",
      " [0.27160494 0.72839506]\n",
      " [0.22742475 0.77257525]\n",
      " [0.71875    0.28125   ]\n",
      " [0.71875    0.28125   ]]\n"
     ]
    }
   ],
   "source": [
    "predictions = clf.predict_proba(X_test)\n",
    "print(predictions)"
   ]
  },
  {
   "cell_type": "code",
   "execution_count": 24,
   "metadata": {},
   "outputs": [],
   "source": [
    "prob_zero = []\n",
    "prob_one = []\n",
    "for arr in predictions:\n",
    "    prob_zero.append(arr[0])\n",
    "    prob_one.append(arr[1])"
   ]
  },
  {
   "cell_type": "code",
   "execution_count": 25,
   "metadata": {},
   "outputs": [],
   "source": [
    "d = {'0': prob_zero, '1': prob_one}\n",
    "df_proba = pd.DataFrame(data = d)"
   ]
  },
  {
   "cell_type": "code",
   "execution_count": 36,
   "metadata": {},
   "outputs": [],
   "source": [
    "names = df_names.to_numpy()"
   ]
  },
  {
   "cell_type": "code",
   "execution_count": 37,
   "metadata": {},
   "outputs": [],
   "source": [
    "df_proba['name'] = names"
   ]
  },
  {
   "cell_type": "code",
   "execution_count": 38,
   "metadata": {
    "scrolled": false
   },
   "outputs": [
    {
     "data": {
      "text/html": [
       "<div>\n",
       "<style scoped>\n",
       "    .dataframe tbody tr th:only-of-type {\n",
       "        vertical-align: middle;\n",
       "    }\n",
       "\n",
       "    .dataframe tbody tr th {\n",
       "        vertical-align: top;\n",
       "    }\n",
       "\n",
       "    .dataframe thead th {\n",
       "        text-align: right;\n",
       "    }\n",
       "</style>\n",
       "<table border=\"1\" class=\"dataframe\">\n",
       "  <thead>\n",
       "    <tr style=\"text-align: right;\">\n",
       "      <th></th>\n",
       "      <th>0</th>\n",
       "      <th>1</th>\n",
       "      <th>name</th>\n",
       "    </tr>\n",
       "  </thead>\n",
       "  <tbody>\n",
       "    <tr>\n",
       "      <th>0</th>\n",
       "      <td>0.227425</td>\n",
       "      <td>0.772575</td>\n",
       "      <td>Stephen Jackson</td>\n",
       "    </tr>\n",
       "    <tr>\n",
       "      <th>1</th>\n",
       "      <td>0.227425</td>\n",
       "      <td>0.772575</td>\n",
       "      <td>DeQuan Jones</td>\n",
       "    </tr>\n",
       "    <tr>\n",
       "      <th>2</th>\n",
       "      <td>0.227425</td>\n",
       "      <td>0.772575</td>\n",
       "      <td>Alan Henderson</td>\n",
       "    </tr>\n",
       "    <tr>\n",
       "      <th>3</th>\n",
       "      <td>0.227425</td>\n",
       "      <td>0.772575</td>\n",
       "      <td>George Hill</td>\n",
       "    </tr>\n",
       "    <tr>\n",
       "      <th>4</th>\n",
       "      <td>0.227425</td>\n",
       "      <td>0.772575</td>\n",
       "      <td>Austin Rivers</td>\n",
       "    </tr>\n",
       "    <tr>\n",
       "      <th>...</th>\n",
       "      <td>...</td>\n",
       "      <td>...</td>\n",
       "      <td>...</td>\n",
       "    </tr>\n",
       "    <tr>\n",
       "      <th>385</th>\n",
       "      <td>0.227425</td>\n",
       "      <td>0.772575</td>\n",
       "      <td>Shelden Williams</td>\n",
       "    </tr>\n",
       "    <tr>\n",
       "      <th>386</th>\n",
       "      <td>0.271605</td>\n",
       "      <td>0.728395</td>\n",
       "      <td>Jordan Clarkson</td>\n",
       "    </tr>\n",
       "    <tr>\n",
       "      <th>387</th>\n",
       "      <td>0.227425</td>\n",
       "      <td>0.772575</td>\n",
       "      <td>Brandon Rush</td>\n",
       "    </tr>\n",
       "    <tr>\n",
       "      <th>388</th>\n",
       "      <td>0.718750</td>\n",
       "      <td>0.281250</td>\n",
       "      <td>Demetris Nichols</td>\n",
       "    </tr>\n",
       "    <tr>\n",
       "      <th>389</th>\n",
       "      <td>0.718750</td>\n",
       "      <td>0.281250</td>\n",
       "      <td>Delonte West</td>\n",
       "    </tr>\n",
       "  </tbody>\n",
       "</table>\n",
       "<p>390 rows × 3 columns</p>\n",
       "</div>"
      ],
      "text/plain": [
       "            0         1              name\n",
       "0    0.227425  0.772575   Stephen Jackson\n",
       "1    0.227425  0.772575      DeQuan Jones\n",
       "2    0.227425  0.772575    Alan Henderson\n",
       "3    0.227425  0.772575       George Hill\n",
       "4    0.227425  0.772575     Austin Rivers\n",
       "..        ...       ...               ...\n",
       "385  0.227425  0.772575  Shelden Williams\n",
       "386  0.271605  0.728395   Jordan Clarkson\n",
       "387  0.227425  0.772575      Brandon Rush\n",
       "388  0.718750  0.281250  Demetris Nichols\n",
       "389  0.718750  0.281250      Delonte West\n",
       "\n",
       "[390 rows x 3 columns]"
      ]
     },
     "execution_count": 38,
     "metadata": {},
     "output_type": "execute_result"
    }
   ],
   "source": [
    "df_proba"
   ]
  },
  {
   "cell_type": "markdown",
   "metadata": {},
   "source": [
    "Ergebnis"
   ]
  },
  {
   "cell_type": "code",
   "execution_count": 43,
   "metadata": {},
   "outputs": [
    {
     "data": {
      "text/html": [
       "<div>\n",
       "<style scoped>\n",
       "    .dataframe tbody tr th:only-of-type {\n",
       "        vertical-align: middle;\n",
       "    }\n",
       "\n",
       "    .dataframe tbody tr th {\n",
       "        vertical-align: top;\n",
       "    }\n",
       "\n",
       "    .dataframe thead th {\n",
       "        text-align: right;\n",
       "    }\n",
       "</style>\n",
       "<table border=\"1\" class=\"dataframe\">\n",
       "  <thead>\n",
       "    <tr style=\"text-align: right;\">\n",
       "      <th></th>\n",
       "      <th>0</th>\n",
       "      <th>1</th>\n",
       "      <th>name</th>\n",
       "    </tr>\n",
       "  </thead>\n",
       "  <tbody>\n",
       "    <tr>\n",
       "      <th>11</th>\n",
       "      <td>0.085714</td>\n",
       "      <td>0.914286</td>\n",
       "      <td>David Robinson*</td>\n",
       "    </tr>\n",
       "    <tr>\n",
       "      <th>22</th>\n",
       "      <td>0.085714</td>\n",
       "      <td>0.914286</td>\n",
       "      <td>Joe Smith</td>\n",
       "    </tr>\n",
       "    <tr>\n",
       "      <th>37</th>\n",
       "      <td>0.085714</td>\n",
       "      <td>0.914286</td>\n",
       "      <td>Jonny Flynn</td>\n",
       "    </tr>\n",
       "    <tr>\n",
       "      <th>44</th>\n",
       "      <td>0.085714</td>\n",
       "      <td>0.914286</td>\n",
       "      <td>Michael Beasley</td>\n",
       "    </tr>\n",
       "    <tr>\n",
       "      <th>46</th>\n",
       "      <td>0.085714</td>\n",
       "      <td>0.914286</td>\n",
       "      <td>Travis Mays</td>\n",
       "    </tr>\n",
       "    <tr>\n",
       "      <th>52</th>\n",
       "      <td>0.085714</td>\n",
       "      <td>0.914286</td>\n",
       "      <td>Anthony Peeler</td>\n",
       "    </tr>\n",
       "    <tr>\n",
       "      <th>69</th>\n",
       "      <td>0.085714</td>\n",
       "      <td>0.914286</td>\n",
       "      <td>Anthony Davis</td>\n",
       "    </tr>\n",
       "    <tr>\n",
       "      <th>74</th>\n",
       "      <td>0.085714</td>\n",
       "      <td>0.914286</td>\n",
       "      <td>Ralph Sampson*</td>\n",
       "    </tr>\n",
       "    <tr>\n",
       "      <th>75</th>\n",
       "      <td>0.085714</td>\n",
       "      <td>0.914286</td>\n",
       "      <td>Kenny Walker</td>\n",
       "    </tr>\n",
       "    <tr>\n",
       "      <th>78</th>\n",
       "      <td>0.085714</td>\n",
       "      <td>0.914286</td>\n",
       "      <td>Chauncey Billups</td>\n",
       "    </tr>\n",
       "    <tr>\n",
       "      <th>90</th>\n",
       "      <td>0.085714</td>\n",
       "      <td>0.914286</td>\n",
       "      <td>Larry Smith</td>\n",
       "    </tr>\n",
       "    <tr>\n",
       "      <th>118</th>\n",
       "      <td>0.085714</td>\n",
       "      <td>0.914286</td>\n",
       "      <td>Buck Williams</td>\n",
       "    </tr>\n",
       "    <tr>\n",
       "      <th>119</th>\n",
       "      <td>0.085714</td>\n",
       "      <td>0.914286</td>\n",
       "      <td>Edgar Jones</td>\n",
       "    </tr>\n",
       "    <tr>\n",
       "      <th>134</th>\n",
       "      <td>0.085714</td>\n",
       "      <td>0.914286</td>\n",
       "      <td>Kemba Walker</td>\n",
       "    </tr>\n",
       "    <tr>\n",
       "      <th>137</th>\n",
       "      <td>0.085714</td>\n",
       "      <td>0.914286</td>\n",
       "      <td>Stacey King</td>\n",
       "    </tr>\n",
       "    <tr>\n",
       "      <th>147</th>\n",
       "      <td>0.085714</td>\n",
       "      <td>0.914286</td>\n",
       "      <td>Al Thornton</td>\n",
       "    </tr>\n",
       "    <tr>\n",
       "      <th>152</th>\n",
       "      <td>0.085714</td>\n",
       "      <td>0.914286</td>\n",
       "      <td>Otis Thorpe</td>\n",
       "    </tr>\n",
       "    <tr>\n",
       "      <th>160</th>\n",
       "      <td>0.085714</td>\n",
       "      <td>0.914286</td>\n",
       "      <td>Jerry Eaves</td>\n",
       "    </tr>\n",
       "    <tr>\n",
       "      <th>182</th>\n",
       "      <td>0.085714</td>\n",
       "      <td>0.914286</td>\n",
       "      <td>Isaiah Rider</td>\n",
       "    </tr>\n",
       "    <tr>\n",
       "      <th>183</th>\n",
       "      <td>0.085714</td>\n",
       "      <td>0.914286</td>\n",
       "      <td>Donyell Marshall</td>\n",
       "    </tr>\n",
       "    <tr>\n",
       "      <th>189</th>\n",
       "      <td>0.085714</td>\n",
       "      <td>0.914286</td>\n",
       "      <td>Mark Jackson</td>\n",
       "    </tr>\n",
       "    <tr>\n",
       "      <th>191</th>\n",
       "      <td>0.085714</td>\n",
       "      <td>0.914286</td>\n",
       "      <td>Mitch Richmond*</td>\n",
       "    </tr>\n",
       "    <tr>\n",
       "      <th>193</th>\n",
       "      <td>0.085714</td>\n",
       "      <td>0.914286</td>\n",
       "      <td>Marcus Thornton</td>\n",
       "    </tr>\n",
       "    <tr>\n",
       "      <th>194</th>\n",
       "      <td>0.085714</td>\n",
       "      <td>0.914286</td>\n",
       "      <td>Keith Van Horn</td>\n",
       "    </tr>\n",
       "    <tr>\n",
       "      <th>196</th>\n",
       "      <td>0.085714</td>\n",
       "      <td>0.914286</td>\n",
       "      <td>Maurice Taylor</td>\n",
       "    </tr>\n",
       "    <tr>\n",
       "      <th>198</th>\n",
       "      <td>0.085714</td>\n",
       "      <td>0.914286</td>\n",
       "      <td>Rex Chapman</td>\n",
       "    </tr>\n",
       "    <tr>\n",
       "      <th>199</th>\n",
       "      <td>0.085714</td>\n",
       "      <td>0.914286</td>\n",
       "      <td>Devin Booker</td>\n",
       "    </tr>\n",
       "    <tr>\n",
       "      <th>206</th>\n",
       "      <td>0.085714</td>\n",
       "      <td>0.914286</td>\n",
       "      <td>Rodney McCray</td>\n",
       "    </tr>\n",
       "    <tr>\n",
       "      <th>212</th>\n",
       "      <td>0.085714</td>\n",
       "      <td>0.914286</td>\n",
       "      <td>Brandon Jennings</td>\n",
       "    </tr>\n",
       "    <tr>\n",
       "      <th>217</th>\n",
       "      <td>0.085714</td>\n",
       "      <td>0.914286</td>\n",
       "      <td>Brad Daugherty</td>\n",
       "    </tr>\n",
       "    <tr>\n",
       "      <th>219</th>\n",
       "      <td>0.085714</td>\n",
       "      <td>0.914286</td>\n",
       "      <td>Michael Finley</td>\n",
       "    </tr>\n",
       "    <tr>\n",
       "      <th>228</th>\n",
       "      <td>0.085714</td>\n",
       "      <td>0.914286</td>\n",
       "      <td>Damian Lillard</td>\n",
       "    </tr>\n",
       "    <tr>\n",
       "      <th>235</th>\n",
       "      <td>0.085714</td>\n",
       "      <td>0.914286</td>\n",
       "      <td>Alonzo Mourning*</td>\n",
       "    </tr>\n",
       "    <tr>\n",
       "      <th>236</th>\n",
       "      <td>0.085714</td>\n",
       "      <td>0.914286</td>\n",
       "      <td>D.J. Augustin</td>\n",
       "    </tr>\n",
       "    <tr>\n",
       "      <th>238</th>\n",
       "      <td>0.085714</td>\n",
       "      <td>0.914286</td>\n",
       "      <td>Victor Oladipo</td>\n",
       "    </tr>\n",
       "    <tr>\n",
       "      <th>242</th>\n",
       "      <td>0.085714</td>\n",
       "      <td>0.914286</td>\n",
       "      <td>Doc Rivers</td>\n",
       "    </tr>\n",
       "    <tr>\n",
       "      <th>254</th>\n",
       "      <td>0.085714</td>\n",
       "      <td>0.914286</td>\n",
       "      <td>Russell Westbrook</td>\n",
       "    </tr>\n",
       "    <tr>\n",
       "      <th>256</th>\n",
       "      <td>0.085714</td>\n",
       "      <td>0.914286</td>\n",
       "      <td>Wesley Matthews</td>\n",
       "    </tr>\n",
       "    <tr>\n",
       "      <th>257</th>\n",
       "      <td>0.085714</td>\n",
       "      <td>0.914286</td>\n",
       "      <td>Jalen Rose</td>\n",
       "    </tr>\n",
       "    <tr>\n",
       "      <th>285</th>\n",
       "      <td>0.085714</td>\n",
       "      <td>0.914286</td>\n",
       "      <td>Charles Jones</td>\n",
       "    </tr>\n",
       "    <tr>\n",
       "      <th>288</th>\n",
       "      <td>0.085714</td>\n",
       "      <td>0.914286</td>\n",
       "      <td>Charles Smith</td>\n",
       "    </tr>\n",
       "    <tr>\n",
       "      <th>294</th>\n",
       "      <td>0.085714</td>\n",
       "      <td>0.914286</td>\n",
       "      <td>Greg Oden</td>\n",
       "    </tr>\n",
       "    <tr>\n",
       "      <th>295</th>\n",
       "      <td>0.085714</td>\n",
       "      <td>0.914286</td>\n",
       "      <td>Khalid Reeves</td>\n",
       "    </tr>\n",
       "    <tr>\n",
       "      <th>304</th>\n",
       "      <td>0.085714</td>\n",
       "      <td>0.914286</td>\n",
       "      <td>Isaiah Thomas</td>\n",
       "    </tr>\n",
       "    <tr>\n",
       "      <th>306</th>\n",
       "      <td>0.085714</td>\n",
       "      <td>0.914286</td>\n",
       "      <td>Vernon Maxwell</td>\n",
       "    </tr>\n",
       "    <tr>\n",
       "      <th>307</th>\n",
       "      <td>0.085714</td>\n",
       "      <td>0.914286</td>\n",
       "      <td>Antonio McDyess</td>\n",
       "    </tr>\n",
       "    <tr>\n",
       "      <th>309</th>\n",
       "      <td>0.085714</td>\n",
       "      <td>0.914286</td>\n",
       "      <td>Adam Keefe</td>\n",
       "    </tr>\n",
       "    <tr>\n",
       "      <th>320</th>\n",
       "      <td>0.085714</td>\n",
       "      <td>0.914286</td>\n",
       "      <td>Kevin Love</td>\n",
       "    </tr>\n",
       "    <tr>\n",
       "      <th>321</th>\n",
       "      <td>0.085714</td>\n",
       "      <td>0.914286</td>\n",
       "      <td>Drew Gooden</td>\n",
       "    </tr>\n",
       "    <tr>\n",
       "      <th>325</th>\n",
       "      <td>0.085714</td>\n",
       "      <td>0.914286</td>\n",
       "      <td>Chris Webber</td>\n",
       "    </tr>\n",
       "  </tbody>\n",
       "</table>\n",
       "</div>"
      ],
      "text/plain": [
       "            0         1               name\n",
       "11   0.085714  0.914286    David Robinson*\n",
       "22   0.085714  0.914286          Joe Smith\n",
       "37   0.085714  0.914286        Jonny Flynn\n",
       "44   0.085714  0.914286    Michael Beasley\n",
       "46   0.085714  0.914286        Travis Mays\n",
       "52   0.085714  0.914286     Anthony Peeler\n",
       "69   0.085714  0.914286      Anthony Davis\n",
       "74   0.085714  0.914286     Ralph Sampson*\n",
       "75   0.085714  0.914286       Kenny Walker\n",
       "78   0.085714  0.914286   Chauncey Billups\n",
       "90   0.085714  0.914286        Larry Smith\n",
       "118  0.085714  0.914286      Buck Williams\n",
       "119  0.085714  0.914286        Edgar Jones\n",
       "134  0.085714  0.914286       Kemba Walker\n",
       "137  0.085714  0.914286        Stacey King\n",
       "147  0.085714  0.914286        Al Thornton\n",
       "152  0.085714  0.914286        Otis Thorpe\n",
       "160  0.085714  0.914286        Jerry Eaves\n",
       "182  0.085714  0.914286       Isaiah Rider\n",
       "183  0.085714  0.914286   Donyell Marshall\n",
       "189  0.085714  0.914286       Mark Jackson\n",
       "191  0.085714  0.914286    Mitch Richmond*\n",
       "193  0.085714  0.914286    Marcus Thornton\n",
       "194  0.085714  0.914286     Keith Van Horn\n",
       "196  0.085714  0.914286     Maurice Taylor\n",
       "198  0.085714  0.914286        Rex Chapman\n",
       "199  0.085714  0.914286       Devin Booker\n",
       "206  0.085714  0.914286      Rodney McCray\n",
       "212  0.085714  0.914286   Brandon Jennings\n",
       "217  0.085714  0.914286     Brad Daugherty\n",
       "219  0.085714  0.914286     Michael Finley\n",
       "228  0.085714  0.914286     Damian Lillard\n",
       "235  0.085714  0.914286   Alonzo Mourning*\n",
       "236  0.085714  0.914286      D.J. Augustin\n",
       "238  0.085714  0.914286     Victor Oladipo\n",
       "242  0.085714  0.914286         Doc Rivers\n",
       "254  0.085714  0.914286  Russell Westbrook\n",
       "256  0.085714  0.914286    Wesley Matthews\n",
       "257  0.085714  0.914286         Jalen Rose\n",
       "285  0.085714  0.914286      Charles Jones\n",
       "288  0.085714  0.914286      Charles Smith\n",
       "294  0.085714  0.914286          Greg Oden\n",
       "295  0.085714  0.914286      Khalid Reeves\n",
       "304  0.085714  0.914286      Isaiah Thomas\n",
       "306  0.085714  0.914286     Vernon Maxwell\n",
       "307  0.085714  0.914286    Antonio McDyess\n",
       "309  0.085714  0.914286         Adam Keefe\n",
       "320  0.085714  0.914286         Kevin Love\n",
       "321  0.085714  0.914286        Drew Gooden\n",
       "325  0.085714  0.914286       Chris Webber"
      ]
     },
     "execution_count": 43,
     "metadata": {},
     "output_type": "execute_result"
    }
   ],
   "source": [
    "df_proba.nlargest(50, '1')"
   ]
  }
 ],
 "metadata": {
  "kernelspec": {
   "display_name": "Python 3 (ipykernel)",
   "language": "python",
   "name": "python3"
  },
  "language_info": {
   "codemirror_mode": {
    "name": "ipython",
    "version": 3
   },
   "file_extension": ".py",
   "mimetype": "text/x-python",
   "name": "python",
   "nbconvert_exporter": "python",
   "pygments_lexer": "ipython3",
   "version": "3.9.11"
  }
 },
 "nbformat": 4,
 "nbformat_minor": 2
}
