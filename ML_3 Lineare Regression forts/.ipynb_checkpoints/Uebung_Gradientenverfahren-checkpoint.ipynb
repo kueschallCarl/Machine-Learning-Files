{
 "cells": [
  {
   "cell_type": "markdown",
   "metadata": {},
   "source": [
    "# Übung 4"
   ]
  },
  {
   "cell_type": "markdown",
   "metadata": {},
   "source": [
    "### Themen: Lineare Regression, Gradientenverfahren"
   ]
  },
  {
   "cell_type": "markdown",
   "metadata": {},
   "source": [
    "## Aufgabe 1"
   ]
  },
  {
   "cell_type": "markdown",
   "metadata": {},
   "source": [
    "Man betrachte die Funktion $f(x)=x^2$, die bekanntermaßen in $x=0$ ein Minimum besitzt. "
   ]
  },
  {
   "cell_type": "markdown",
   "metadata": {},
   "source": [
    "a) Formulieren Sie das Gradientenverfahren für diese Funktion unter Verwendung des Startwerts $x^0=1$ und der Lernrate $\\alpha$. "
   ]
  },
  {
   "cell_type": "markdown",
   "metadata": {},
   "source": [
    "b) Berechnen Sie für $\\alpha=1$ die ersten vier Iterierten. Was fällt auf?"
   ]
  },
  {
   "cell_type": "markdown",
   "metadata": {},
   "source": [
    "c) Wiederholen Sie Teilaufgabe b) für $\\alpha=0.5$ und für $\\alpha=0.25$."
   ]
  },
  {
   "cell_type": "markdown",
   "metadata": {},
   "source": [
    "## Aufgabe 2"
   ]
  },
  {
   "cell_type": "markdown",
   "metadata": {},
   "source": [
    "In dieser Aufgabe wollen wir uns mit dem Gradientenverfahren zur approximativen Berechnung der Parameter für ein Lineares Regressionsmodell unter Verwendung des Least-Squares-Ansatzes befassen. Wir betrachten dazu den Boston-Housing-Datensatz, der Zensus-Daten aus der Region von Boston, Massachussets, enthält."
   ]
  },
  {
   "cell_type": "code",
   "execution_count": 183,
   "metadata": {},
   "outputs": [],
   "source": [
    "import numpy as np\n",
    "import pandas as pd\n",
    "import matplotlib.pyplot as plt"
   ]
  },
  {
   "cell_type": "markdown",
   "metadata": {},
   "source": [
    "Einlesen des Datensatzes:"
   ]
  },
  {
   "cell_type": "code",
   "execution_count": 184,
   "metadata": {},
   "outputs": [],
   "source": [
    "df = pd.read_csv('boston_housing.csv',sep=',')"
   ]
  },
  {
   "cell_type": "code",
   "execution_count": 185,
   "metadata": {},
   "outputs": [
    {
     "data": {
      "text/html": [
       "<div>\n",
       "<style scoped>\n",
       "    .dataframe tbody tr th:only-of-type {\n",
       "        vertical-align: middle;\n",
       "    }\n",
       "\n",
       "    .dataframe tbody tr th {\n",
       "        vertical-align: top;\n",
       "    }\n",
       "\n",
       "    .dataframe thead th {\n",
       "        text-align: right;\n",
       "    }\n",
       "</style>\n",
       "<table border=\"1\" class=\"dataframe\">\n",
       "  <thead>\n",
       "    <tr style=\"text-align: right;\">\n",
       "      <th></th>\n",
       "      <th>zn</th>\n",
       "      <th>indus</th>\n",
       "      <th>chas</th>\n",
       "      <th>nox</th>\n",
       "      <th>rm</th>\n",
       "      <th>age</th>\n",
       "      <th>dis</th>\n",
       "      <th>rad</th>\n",
       "      <th>tax</th>\n",
       "      <th>ptratio</th>\n",
       "      <th>black</th>\n",
       "      <th>lstat</th>\n",
       "      <th>medv</th>\n",
       "    </tr>\n",
       "  </thead>\n",
       "  <tbody>\n",
       "    <tr>\n",
       "      <th>0</th>\n",
       "      <td>18.0</td>\n",
       "      <td>2.31</td>\n",
       "      <td>0</td>\n",
       "      <td>0.538</td>\n",
       "      <td>6.575</td>\n",
       "      <td>65.2</td>\n",
       "      <td>4.0900</td>\n",
       "      <td>1</td>\n",
       "      <td>296</td>\n",
       "      <td>15.3</td>\n",
       "      <td>396.90</td>\n",
       "      <td>4.98</td>\n",
       "      <td>24.0</td>\n",
       "    </tr>\n",
       "    <tr>\n",
       "      <th>1</th>\n",
       "      <td>0.0</td>\n",
       "      <td>7.07</td>\n",
       "      <td>0</td>\n",
       "      <td>0.469</td>\n",
       "      <td>6.421</td>\n",
       "      <td>78.9</td>\n",
       "      <td>4.9671</td>\n",
       "      <td>2</td>\n",
       "      <td>242</td>\n",
       "      <td>17.8</td>\n",
       "      <td>396.90</td>\n",
       "      <td>9.14</td>\n",
       "      <td>21.6</td>\n",
       "    </tr>\n",
       "    <tr>\n",
       "      <th>2</th>\n",
       "      <td>0.0</td>\n",
       "      <td>7.07</td>\n",
       "      <td>0</td>\n",
       "      <td>0.469</td>\n",
       "      <td>7.185</td>\n",
       "      <td>61.1</td>\n",
       "      <td>4.9671</td>\n",
       "      <td>2</td>\n",
       "      <td>242</td>\n",
       "      <td>17.8</td>\n",
       "      <td>392.83</td>\n",
       "      <td>4.03</td>\n",
       "      <td>34.7</td>\n",
       "    </tr>\n",
       "    <tr>\n",
       "      <th>3</th>\n",
       "      <td>0.0</td>\n",
       "      <td>2.18</td>\n",
       "      <td>0</td>\n",
       "      <td>0.458</td>\n",
       "      <td>6.998</td>\n",
       "      <td>45.8</td>\n",
       "      <td>6.0622</td>\n",
       "      <td>3</td>\n",
       "      <td>222</td>\n",
       "      <td>18.7</td>\n",
       "      <td>394.63</td>\n",
       "      <td>2.94</td>\n",
       "      <td>33.4</td>\n",
       "    </tr>\n",
       "    <tr>\n",
       "      <th>4</th>\n",
       "      <td>0.0</td>\n",
       "      <td>2.18</td>\n",
       "      <td>0</td>\n",
       "      <td>0.458</td>\n",
       "      <td>7.147</td>\n",
       "      <td>54.2</td>\n",
       "      <td>6.0622</td>\n",
       "      <td>3</td>\n",
       "      <td>222</td>\n",
       "      <td>18.7</td>\n",
       "      <td>396.90</td>\n",
       "      <td>5.33</td>\n",
       "      <td>36.2</td>\n",
       "    </tr>\n",
       "  </tbody>\n",
       "</table>\n",
       "</div>"
      ],
      "text/plain": [
       "     zn  indus  chas    nox     rm   age     dis  rad  tax  ptratio   black  \\\n",
       "0  18.0   2.31     0  0.538  6.575  65.2  4.0900    1  296     15.3  396.90   \n",
       "1   0.0   7.07     0  0.469  6.421  78.9  4.9671    2  242     17.8  396.90   \n",
       "2   0.0   7.07     0  0.469  7.185  61.1  4.9671    2  242     17.8  392.83   \n",
       "3   0.0   2.18     0  0.458  6.998  45.8  6.0622    3  222     18.7  394.63   \n",
       "4   0.0   2.18     0  0.458  7.147  54.2  6.0622    3  222     18.7  396.90   \n",
       "\n",
       "   lstat  medv  \n",
       "0   4.98  24.0  \n",
       "1   9.14  21.6  \n",
       "2   4.03  34.7  \n",
       "3   2.94  33.4  \n",
       "4   5.33  36.2  "
      ]
     },
     "execution_count": 185,
     "metadata": {},
     "output_type": "execute_result"
    }
   ],
   "source": [
    "df.head()"
   ]
  },
  {
   "cell_type": "markdown",
   "metadata": {},
   "source": [
    "#### Bedeutung der Spalten des Datensatzes:"
   ]
  },
  {
   "cell_type": "markdown",
   "metadata": {},
   "source": [
    "<pre>\n",
    "1. zn        proportion of residential land zoned for lots over \n",
    "                 25,000 sq.ft.\n",
    "2. indus     proportion of non-retail business acres per town\n",
    "3. chas      Charles River dummy variable (= 1 if tract bounds \n",
    "                 river; 0 otherwise)\n",
    "4. nox       nitric oxides concentration (parts per 10 million)\n",
    "5. rm        average number of rooms per dwelling\n",
    "6. age       proportion of owner-occupied units built prior to 1940\n",
    "7. dis       weighted distances to five Boston employment centres\n",
    "8. rad       index of accessibility to radial highways\n",
    "9. tax      full-value property-tax rate per $10,000\n",
    "10. ptratio  pupil-teacher ratio by town\n",
    "11. black    1000(Bk - 0.63)^2 where Bk is the proportion of blacks \n",
    "                 by town\n",
    "12. lstat    % lower status of the population\n",
    "13. medv     Median value of owner-occupied homes in $1000s\n",
    "</pre>"
   ]
  },
  {
   "cell_type": "markdown",
   "metadata": {},
   "source": [
    "#### a) Visualisierung "
   ]
  },
  {
   "cell_type": "markdown",
   "metadata": {},
   "source": [
    "Im Folgenden soll ein univariates lineares Regressionsmodell hergeleitet werden, um die Zielvariable `medv` vorherzusagen. Um zu beurteilen, welche Größen als unabhängige Variable für eine lineare Modellierung in Frage kommen, sollen jeweils zwei Größen des Datensatzes in Form eines Streudiagramms gegeneinander aufgetragen werden. Dies kann durch die Funktion `pairplot` aus der Bibliothek seaborn erreicht werden."
   ]
  },
  {
   "cell_type": "markdown",
   "metadata": {},
   "source": [
    "Führen Sie die folgende Zelle aus, um die Pairplots zu erstellen. Welche Eingangsgrößen kommen aus Ihrer Sicht zur Erstellung eines univariaten linearen Regressionsmodells zur Vorhersage von `medv` in Frage?"
   ]
  },
  {
   "cell_type": "markdown",
   "metadata": {},
   "source": [
    "rm und lstat. rm korreliert positiv, lstat negativ. "
   ]
  },
  {
   "cell_type": "markdown",
   "metadata": {},
   "source": [
    "import seaborn as sns\n",
    "cols = ['lstat', 'indus', 'nox', 'rm', 'medv']\n",
    "sns.pairplot(df, height=3)"
   ]
  },
  {
   "cell_type": "markdown",
   "metadata": {},
   "source": [
    "#### b) Parameterschätzung mit Scikit-learn"
   ]
  },
  {
   "cell_type": "markdown",
   "metadata": {},
   "source": [
    "Im Folgenden soll ein univariates Lineares Regressionsmodell der Gestalt $$y=\\theta_0+\\theta_1x$$ zur Vorhersage von `medv` in Abhängigkeit der Größe `rm` erstellt werden. Schätzen Sie dazu anhand des obigen Datensatzes die Parameter $\\vec{\\theta}=(\\theta_0,\\theta_1)$ unter Verwendung von Scikit-learn. Visualisieren Sie die resultierende Gerade zusammen mit den Datenpunkten in einem Diagramm. <br>\n",
    "Hinweis: die Parameter $\\theta_0$ und $\\theta_1$ werden in der Klasse `LinearRegression` in den Attributen `intercept_` und `coef_` gespeichert."
   ]
  },
  {
   "cell_type": "code",
   "execution_count": 187,
   "metadata": {},
   "outputs": [],
   "source": [
    "import numpy as np\n",
    "from sklearn.linear_model import LinearRegression"
   ]
  },
  {
   "cell_type": "code",
   "execution_count": 188,
   "metadata": {},
   "outputs": [],
   "source": [
    "from sklearn.preprocessing import StandardScaler\n",
    "scale= StandardScaler()\n"
   ]
  },
  {
   "cell_type": "code",
   "execution_count": 189,
   "metadata": {},
   "outputs": [
    {
     "name": "stdout",
     "output_type": "stream",
     "text": [
      "6.388975221817343\n",
      "22.532806324110677\n"
     ]
    }
   ],
   "source": [
    "X = df['rm']\n",
    "y = df['medv']\n",
    "X = X.to_numpy()\n",
    "y = y.to_numpy()\n",
    "\n",
    "X = X.reshape(-1,1)\n",
    "y = y.reshape(-1,1)\n",
    "\n",
    "#scale\n",
    "X = scale.fit_transform(X) \n",
    "\n",
    "reg = LinearRegression().fit(X, y)\n",
    "pred_y = reg.predict(X)\n",
    "#inv scale\n",
    "X = scale.inverse_transform(X)\n",
    "\n",
    "\n",
    "print(reg.coef_[0][0])\n",
    "print(reg.intercept_[0])"
   ]
  },
  {
   "cell_type": "code",
   "execution_count": 190,
   "metadata": {},
   "outputs": [
    {
     "data": {
      "image/png": "[encoded data removed]",
      "text/plain": [
       "<Figure size 640x480 with 1 Axes>"
      ]
     },
     "metadata": {},
     "output_type": "display_data"
    }
   ],
   "source": [
    "polynomial = reg.coef_[0][0]*X+reg.intercept_[0]\n",
    "plt.plot(X, pred_y, '-r', label='y=9.102x-34.670')\n",
    "plt.scatter(X,y)\n",
    "plt.title('LinReg | Home price vs avg. num. of rooms')\n",
    "plt.xlabel('rm = Room Number Median', color='#1C2833')\n",
    "plt.ylabel('medv = Median House Price in 1000s', color='#1C2833')\n",
    "plt.legend(loc='upper left')\n",
    "plt.grid()\n",
    "plt.show()"
   ]
  },
  {
   "cell_type": "markdown",
   "metadata": {},
   "source": [
    "#### c) Parameterschätzung mit Hilfe des Gradientenverfahrens"
   ]
  },
  {
   "cell_type": "markdown",
   "metadata": {},
   "source": [
    "Implementieren Sie das Gradientenverfahren für die univariate lineare Regression gemäß der aus der Vorlesung bekannten Iterationsvorschrift $$\\vec{\\theta}^k = \\vec{\\theta}^{k-1}-\\frac{\\alpha}{m}(X^TX\\vec{\\theta}^{k-1}-X^T\\vec{y})~.$$\n",
    "Dabei sei $m$ die Anzahl der Samples im Trainingsdatensatz und $\\alpha$ die Lernrate. Verwenden Sie den Startwert $\\vec{\\theta}^0=(0,0)$ und als Abbruchkriterium die Bedingung\n",
    "$$\\|\\vec{\\theta}-\\vec{\\theta}^k\\|<10^{-5}~,$$\n",
    "wobei $\\vec{\\theta}$ die in Teilaufgabe b) mit Scikit-learn ermittelten Parameter bezeichne.<br><br>\n",
    "Testen Sie Ihre Implementierung unter Verwendung der Lernrate $\\alpha=0.02$. Wie viele Iterationen werden durchgeführt, bevor das Abbruchkriterium erreicht wird? Wiederholen Sie das Experiment für verschiedene (kleinere und größere) Werte für die Lernrate $\\alpha$. <br><br>\n",
    "Hinweis: die Länge eines Vektors (1D-Array) kann mit Hilfe der Funktion `numpy.linalg.norm` berechnet werden."
   ]
  },
  {
   "cell_type": "code",
   "execution_count": 256,
   "metadata": {},
   "outputs": [
    {
     "name": "stdout",
     "output_type": "stream",
     "text": [
      "coef: [0.69535995] intercept: 0\n"
     ]
    },
    {
     "data": {
      "text/plain": [
       "[<matplotlib.lines.Line2D at 0x199d73efc10>]"
      ]
     },
     "execution_count": 256,
     "metadata": {},
     "output_type": "execute_result"
    },
    {
     "data": {
      "image/png": "[encoded data removed]",
      "text/plain": [
       "<Figure size 640x480 with 1 Axes>"
      ]
     },
     "metadata": {},
     "output_type": "display_data"
    }
   ],
   "source": [
    "X = df['rm']\n",
    "y = df['medv']\n",
    "X = X.to_numpy()\n",
    "y = y.to_numpy()\n",
    "\n",
    "#data\n",
    "X = X.reshape(-1,1)\n",
    "y = y.reshape(-1,1)\n",
    "\n",
    "X = scale.fit_transform(X) \n",
    "y = scale.fit_transform(y) \n",
    "\n",
    "#theta 0 and 1\n",
    "coef = 0.0\n",
    "intercept = 0.0\n",
    "#hyperparam\n",
    "#Attention!!!!!!!!!!!!!!!!!!!!!!!!!!!!!!!!!! THE LEARNING RATE MASSIVELY AFFECTS OVERSHOOTING\n",
    "#AND CAUSES RIDICULOUSLY HIGH VALUES\n",
    "lr = 0.2\n",
    "\n",
    "for i in range(100):\n",
    "    y_pred = coef*X+intercept\n",
    "    pd_intercept = (1/506) * sum(y_pred - y)\n",
    "    pd_coef = (1/506) * sum((y_pred - y) * X)\n",
    "    \n",
    "    intercept = intercept - lr * pd_intercept\n",
    "    coef = coef - lr * pd_coef\n",
    "print(\"coef:\",coef,\"intercept:\",int(intercept))\n",
    "plt.scatter(X,y)\n",
    "plt.plot(X, y_pred, '-r', label='y=9.102x-34.670')"
   ]
  },
  {
   "cell_type": "markdown",
   "metadata": {},
   "source": [
    "#### d) Einfluss von Standardisierung auf die Konvergenzgeschwindigkeit des Gradientenverfahrens"
   ]
  },
  {
   "cell_type": "markdown",
   "metadata": {},
   "source": [
    "Wiederholen Sie die Teilaufgaben b) und c) und standardisieren Sie nun vorher die Spalten `medv` und `rm`. Sie können dazu entweder den StandardScaler aus `sklearn.preprocessing` verwenden oder die Standardisierung \"manuell\" gemäß der in der Vorlesung besprochenen Vorschrift durchführen. Wie viele Iterationen sind bei einer Lernrate von $\\alpha=0.02$ jetzt nötig, um das Abbruchkriterium $$\\|\\vec{\\theta}-\\vec{\\theta}^k\\|<10^{-5}$$ zu erreichen? Testen Sie, wie weit Sie die Lernrate erhöhen können, bis das Verfahren nicht mehr konvergiert."
   ]
  },
  {
   "cell_type": "code",
   "execution_count": 193,
   "metadata": {},
   "outputs": [],
   "source": []
  },
  {
   "cell_type": "markdown",
   "metadata": {},
   "source": [
    "#### e) Eigenschaften der Least-Squares-Lösung"
   ]
  },
  {
   "cell_type": "markdown",
   "metadata": {},
   "source": [
    "Offenbar war der Parameter $\\theta_0$ in Teilaufgabe d) gleich Null. Begründen Sie dies mathematisch."
   ]
  },
  {
   "cell_type": "markdown",
   "metadata": {},
   "source": [
    "wegen standardisierung"
   ]
  }
 ],
 "metadata": {
  "kernelspec": {
   "display_name": "Python 3 (ipykernel)",
   "language": "python",
   "name": "python3"
  },
  "language_info": {
   "codemirror_mode": {
    "name": "ipython",
    "version": 3
   },
   "file_extension": ".py",
   "mimetype": "text/x-python",
   "name": "python",
   "nbconvert_exporter": "python",
   "pygments_lexer": "ipython3",
   "version": "3.9.11"
  }
 },
 "nbformat": 4,
 "nbformat_minor": 2
}
